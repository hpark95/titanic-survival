{
 "cells": [
  {
   "cell_type": "markdown",
   "metadata": {},
   "source": [
    "# Titanic: Machine Learning from Disaster"
   ]
  },
  {
   "cell_type": "markdown",
   "metadata": {},
   "source": [
    "### Import packages/functions"
   ]
  },
  {
   "cell_type": "code",
   "execution_count": 884,
   "metadata": {
    "scrolled": true
   },
   "outputs": [],
   "source": [
    "import matplotlib.pyplot as plt\n",
    "import numpy as np\n",
    "import pandas as pd\n",
    "import seaborn as sns\n",
    "\n",
    "from sklearn.experimental import enable_iterative_imputer\n",
    "from sklearn.experimental import enable_hist_gradient_boosting\n",
    "\n",
    "from sklearn.preprocessing import LabelEncoder\n",
    "from sklearn.preprocessing import MinMaxScaler, StandardScaler\n",
    "\n",
    "from sklearn.impute import IterativeImputer\n",
    "\n",
    "from sklearn.tree import DecisionTreeClassifier\n",
    "\n",
    "from sklearn.ensemble import AdaBoostClassifier\n",
    "from sklearn.ensemble import BaggingClassifier\n",
    "from sklearn.ensemble import ExtraTreesClassifier\n",
    "from sklearn.ensemble import RandomForestClassifier\n",
    "from sklearn.ensemble import HistGradientBoostingClassifier\n",
    "from sklearn.ensemble import VotingClassifier\n",
    "\n",
    "from sklearn.svm import LinearSVC\n",
    "from sklearn.svm import SVC\n",
    "\n",
    "from xgboost import XGBClassifier\n",
    "\n",
    "from sklearn.model_selection import cross_val_score, GridSearchCV\n",
    "\n",
    "import warnings\n",
    "\n",
    "warnings.filterwarnings('ignore')\n",
    "%matplotlib inline"
   ]
  },
  {
   "cell_type": "markdown",
   "metadata": {},
   "source": [
    "## Part 1: Data Exploration"
   ]
  },
  {
   "cell_type": "markdown",
   "metadata": {},
   "source": [
    "### Data Format"
   ]
  },
  {
   "cell_type": "code",
   "execution_count": 885,
   "metadata": {},
   "outputs": [
    {
     "data": {
      "text/html": [
       "<div>\n",
       "<style scoped>\n",
       "    .dataframe tbody tr th:only-of-type {\n",
       "        vertical-align: middle;\n",
       "    }\n",
       "\n",
       "    .dataframe tbody tr th {\n",
       "        vertical-align: top;\n",
       "    }\n",
       "\n",
       "    .dataframe thead th {\n",
       "        text-align: right;\n",
       "    }\n",
       "</style>\n",
       "<table border=\"1\" class=\"dataframe\">\n",
       "  <thead>\n",
       "    <tr style=\"text-align: right;\">\n",
       "      <th></th>\n",
       "      <th>PassengerId</th>\n",
       "      <th>Survived</th>\n",
       "      <th>Pclass</th>\n",
       "      <th>Name</th>\n",
       "      <th>Sex</th>\n",
       "      <th>Age</th>\n",
       "      <th>SibSp</th>\n",
       "      <th>Parch</th>\n",
       "      <th>Ticket</th>\n",
       "      <th>Fare</th>\n",
       "      <th>Cabin</th>\n",
       "      <th>Embarked</th>\n",
       "    </tr>\n",
       "  </thead>\n",
       "  <tbody>\n",
       "    <tr>\n",
       "      <th>0</th>\n",
       "      <td>1</td>\n",
       "      <td>0</td>\n",
       "      <td>3</td>\n",
       "      <td>Braund, Mr. Owen Harris</td>\n",
       "      <td>male</td>\n",
       "      <td>22.0</td>\n",
       "      <td>1</td>\n",
       "      <td>0</td>\n",
       "      <td>A/5 21171</td>\n",
       "      <td>7.2500</td>\n",
       "      <td>NaN</td>\n",
       "      <td>S</td>\n",
       "    </tr>\n",
       "    <tr>\n",
       "      <th>1</th>\n",
       "      <td>2</td>\n",
       "      <td>1</td>\n",
       "      <td>1</td>\n",
       "      <td>Cumings, Mrs. John Bradley (Florence Briggs Th...</td>\n",
       "      <td>female</td>\n",
       "      <td>38.0</td>\n",
       "      <td>1</td>\n",
       "      <td>0</td>\n",
       "      <td>PC 17599</td>\n",
       "      <td>71.2833</td>\n",
       "      <td>C85</td>\n",
       "      <td>C</td>\n",
       "    </tr>\n",
       "    <tr>\n",
       "      <th>2</th>\n",
       "      <td>3</td>\n",
       "      <td>1</td>\n",
       "      <td>3</td>\n",
       "      <td>Heikkinen, Miss. Laina</td>\n",
       "      <td>female</td>\n",
       "      <td>26.0</td>\n",
       "      <td>0</td>\n",
       "      <td>0</td>\n",
       "      <td>STON/O2. 3101282</td>\n",
       "      <td>7.9250</td>\n",
       "      <td>NaN</td>\n",
       "      <td>S</td>\n",
       "    </tr>\n",
       "    <tr>\n",
       "      <th>3</th>\n",
       "      <td>4</td>\n",
       "      <td>1</td>\n",
       "      <td>1</td>\n",
       "      <td>Futrelle, Mrs. Jacques Heath (Lily May Peel)</td>\n",
       "      <td>female</td>\n",
       "      <td>35.0</td>\n",
       "      <td>1</td>\n",
       "      <td>0</td>\n",
       "      <td>113803</td>\n",
       "      <td>53.1000</td>\n",
       "      <td>C123</td>\n",
       "      <td>S</td>\n",
       "    </tr>\n",
       "    <tr>\n",
       "      <th>4</th>\n",
       "      <td>5</td>\n",
       "      <td>0</td>\n",
       "      <td>3</td>\n",
       "      <td>Allen, Mr. William Henry</td>\n",
       "      <td>male</td>\n",
       "      <td>35.0</td>\n",
       "      <td>0</td>\n",
       "      <td>0</td>\n",
       "      <td>373450</td>\n",
       "      <td>8.0500</td>\n",
       "      <td>NaN</td>\n",
       "      <td>S</td>\n",
       "    </tr>\n",
       "  </tbody>\n",
       "</table>\n",
       "</div>"
      ],
      "text/plain": [
       "   PassengerId  Survived  Pclass  \\\n",
       "0            1         0       3   \n",
       "1            2         1       1   \n",
       "2            3         1       3   \n",
       "3            4         1       1   \n",
       "4            5         0       3   \n",
       "\n",
       "                                                Name     Sex   Age  SibSp  \\\n",
       "0                            Braund, Mr. Owen Harris    male  22.0      1   \n",
       "1  Cumings, Mrs. John Bradley (Florence Briggs Th...  female  38.0      1   \n",
       "2                             Heikkinen, Miss. Laina  female  26.0      0   \n",
       "3       Futrelle, Mrs. Jacques Heath (Lily May Peel)  female  35.0      1   \n",
       "4                           Allen, Mr. William Henry    male  35.0      0   \n",
       "\n",
       "   Parch            Ticket     Fare Cabin Embarked  \n",
       "0      0         A/5 21171   7.2500   NaN        S  \n",
       "1      0          PC 17599  71.2833   C85        C  \n",
       "2      0  STON/O2. 3101282   7.9250   NaN        S  \n",
       "3      0            113803  53.1000  C123        S  \n",
       "4      0            373450   8.0500   NaN        S  "
      ]
     },
     "metadata": {},
     "output_type": "display_data"
    },
    {
     "name": "stdout",
     "output_type": "stream",
     "text": [
      "<class 'pandas.core.frame.DataFrame'>\n",
      "RangeIndex: 891 entries, 0 to 890\n",
      "Data columns (total 12 columns):\n",
      "PassengerId    891 non-null int64\n",
      "Survived       891 non-null int64\n",
      "Pclass         891 non-null int64\n",
      "Name           891 non-null object\n",
      "Sex            891 non-null object\n",
      "Age            714 non-null float64\n",
      "SibSp          891 non-null int64\n",
      "Parch          891 non-null int64\n",
      "Ticket         891 non-null object\n",
      "Fare           891 non-null float64\n",
      "Cabin          204 non-null object\n",
      "Embarked       889 non-null object\n",
      "dtypes: float64(2), int64(5), object(5)\n",
      "memory usage: 83.6+ KB\n"
     ]
    },
    {
     "data": {
      "text/plain": [
       "None"
      ]
     },
     "metadata": {},
     "output_type": "display_data"
    }
   ],
   "source": [
    "df_train = pd.read_csv('train.csv')\n",
    "df_test = pd.read_csv('test.csv')\n",
    "\n",
    "display(df_train.head())\n",
    "display(df_train.info())"
   ]
  },
  {
   "cell_type": "markdown",
   "metadata": {},
   "source": [
    "### Bar Plots"
   ]
  },
  {
   "cell_type": "code",
   "execution_count": 886,
   "metadata": {},
   "outputs": [
    {
     "data": {
      "text/plain": [
       "<seaborn.axisgrid.FacetGrid at 0x1a3802d898>"
      ]
     },
     "execution_count": 886,
     "metadata": {},
     "output_type": "execute_result"
    },
    {
     "data": {
      "image/png": "[encoded data removed]",
      "text/plain": [
       "<Figure size 216x360 with 1 Axes>"
      ]
     },
     "metadata": {
      "needs_background": "light"
     },
     "output_type": "display_data"
    },
    {
     "data": {
      "image/png": "[encoded data removed]",
      "text/plain": [
       "<Figure size 216x360 with 1 Axes>"
      ]
     },
     "metadata": {
      "needs_background": "light"
     },
     "output_type": "display_data"
    },
    {
     "data": {
      "image/png": "[encoded data removed]",
      "text/plain": [
       "<Figure size 216x360 with 1 Axes>"
      ]
     },
     "metadata": {
      "needs_background": "light"
     },
     "output_type": "display_data"
    },
    {
     "data": {
      "image/png": "[encoded data removed]",
      "text/plain": [
       "<Figure size 216x360 with 1 Axes>"
      ]
     },
     "metadata": {
      "needs_background": "light"
     },
     "output_type": "display_data"
    },
    {
     "data": {
      "image/png": "[encoded data removed]",
      "text/plain": [
       "<Figure size 216x360 with 1 Axes>"
      ]
     },
     "metadata": {
      "needs_background": "light"
     },
     "output_type": "display_data"
    }
   ],
   "source": [
    "sns.set_color_codes(\"pastel\")\n",
    "sns.catplot(x='Sex', y='Survived', data=df_train, saturation=.5, kind='bar', ci=None, aspect=.6)\n",
    "sns.catplot(x='Pclass', y='Survived', data=df_train, saturation=.5, kind='bar', ci=None, aspect=.6)\n",
    "sns.catplot(x='SibSp', y='Survived', data=df_train, saturation=.5, kind='bar', ci=None, aspect=.6)\n",
    "sns.catplot(x='Parch', y='Survived', data=df_train, saturation=.5, kind='bar', ci=None, aspect=.6)\n",
    "sns.catplot(x='Embarked', y='Survived', data=df_train, saturation=.5, kind='bar', ci=None, aspect=.6)"
   ]
  },
  {
   "cell_type": "code",
   "execution_count": 887,
   "metadata": {},
   "outputs": [
    {
     "data": {
      "text/plain": [
       "<matplotlib.axes._subplots.AxesSubplot at 0x1a3821ef98>"
      ]
     },
     "execution_count": 887,
     "metadata": {},
     "output_type": "execute_result"
    },
    {
     "data": {
      "image/png": "[encoded data removed]",
      "text/plain": [
       "<Figure size 432x288 with 2 Axes>"
      ]
     },
     "metadata": {
      "needs_background": "light"
     },
     "output_type": "display_data"
    }
   ],
   "source": [
    "sns.heatmap(df_train.drop('PassengerId', axis = 1).corr(), linewidths = 0.1, vmax = 1.0, square = True, linecolor = 'white', annot = True)"
   ]
  },
  {
   "cell_type": "markdown",
   "metadata": {},
   "source": [
    "## Part 2: Data Cleaning"
   ]
  },
  {
   "cell_type": "markdown",
   "metadata": {},
   "source": [
    "### Part 2.1: Data Completion"
   ]
  },
  {
   "cell_type": "markdown",
   "metadata": {},
   "source": [
    "First, we will drop unused features. \n",
    "From my intuition and many experiments, I figured out \n",
    " - 'PassengerId' is irrelevant to the prediction of survival.\n",
    " - 'Ticket' is irrelevant to the prediction of survival.\n",
    " - 'Cabin' does not help our prediction of survival. Engineering a new feature for if a person has a cabin does not improve our prediction.\n",
    " - 'Embarked' does not help our prediction of survival."
   ]
  },
  {
   "cell_type": "code",
   "execution_count": 888,
   "metadata": {},
   "outputs": [],
   "source": [
    "df_test_pid = df_test['PassengerId']\n",
    "\n",
    "df_train.drop(['PassengerId', 'Ticket', 'Cabin', 'Embarked'], axis=1, inplace=True)\n",
    "df_test.drop(['PassengerId', 'Ticket', 'Cabin', 'Embarked'], axis=1, inplace=True)"
   ]
  },
  {
   "cell_type": "markdown",
   "metadata": {},
   "source": [
    "Next, let's look at how many missing values each attribute has."
   ]
  },
  {
   "cell_type": "code",
   "execution_count": 889,
   "metadata": {
    "scrolled": false
   },
   "outputs": [
    {
     "data": {
      "text/plain": [
       "Survived      0\n",
       "Pclass        0\n",
       "Name          0\n",
       "Sex           0\n",
       "Age         177\n",
       "SibSp         0\n",
       "Parch         0\n",
       "Fare          0\n",
       "dtype: int64"
      ]
     },
     "metadata": {},
     "output_type": "display_data"
    },
    {
     "name": "stdout",
     "output_type": "stream",
     "text": [
      "------------------------------\n"
     ]
    },
    {
     "data": {
      "text/plain": [
       "Pclass     0\n",
       "Name       0\n",
       "Sex        0\n",
       "Age       86\n",
       "SibSp      0\n",
       "Parch      0\n",
       "Fare       1\n",
       "dtype: int64"
      ]
     },
     "metadata": {},
     "output_type": "display_data"
    }
   ],
   "source": [
    "display(df_train.isnull().sum())\n",
    "print('-' * 30)\n",
    "display(df_test.isnull().sum())"
   ]
  },
  {
   "cell_type": "markdown",
   "metadata": {},
   "source": [
    "We can fill out the missing values with IterativeImputer from sklearn.impute.\n",
    "\n",
    "Decumentation:  \n",
    "[sklearn.impute.IterativeImputer](https://scikit-learn.org/stable/modules/generated/sklearn.impute.IterativeImputer.html \"IterativeImputer\")"
   ]
  },
  {
   "cell_type": "code",
   "execution_count": 890,
   "metadata": {
    "scrolled": true
   },
   "outputs": [
    {
     "data": {
      "text/plain": [
       "Survived    0\n",
       "Pclass      0\n",
       "Name        0\n",
       "Sex         0\n",
       "Age         0\n",
       "SibSp       0\n",
       "Parch       0\n",
       "Fare        0\n",
       "dtype: int64"
      ]
     },
     "metadata": {},
     "output_type": "display_data"
    },
    {
     "name": "stdout",
     "output_type": "stream",
     "text": [
      "------------------------------\n"
     ]
    },
    {
     "data": {
      "text/plain": [
       "Pclass    0\n",
       "Name      0\n",
       "Sex       0\n",
       "Age       0\n",
       "SibSp     0\n",
       "Parch     0\n",
       "Fare      0\n",
       "dtype: int64"
      ]
     },
     "metadata": {},
     "output_type": "display_data"
    }
   ],
   "source": [
    "imputer = IterativeImputer()\n",
    "\n",
    "df_train['Age'] = imputer.fit_transform(df_train[['Age', 'Pclass', 'SibSp', 'Parch', 'Fare']])[:, 0]\n",
    "df_test['Age'] = imputer.fit_transform(df_test[['Age', 'Pclass', 'SibSp', 'Parch', 'Fare']])[:, 0]\n",
    "\n",
    "df_test['Fare'] = imputer.fit_transform(df_test[['Fare', 'Pclass', 'Age', 'SibSp', 'Parch']])[:, 0]\n",
    "\n",
    "display(df_train.isnull().sum())\n",
    "print('-' * 30)\n",
    "display(df_test.isnull().sum())"
   ]
  },
  {
   "cell_type": "markdown",
   "metadata": {},
   "source": [
    "### Part 2.2: Feature Engineering"
   ]
  },
  {
   "cell_type": "markdown",
   "metadata": {},
   "source": [
    "Let's engineer a new feature called 'Title'. To do this, we use the following pipeline.\n",
    " 1. Extract titles from names.\n",
    " 2. Correct titles 'Mlle', 'Mme', 'Ms' to 'Miss', 'Mrs', and 'Miss'.\n",
    " 3. Replace rare titles with 'Others'.\n",
    " 4. Encode titles into integers."
   ]
  },
  {
   "cell_type": "code",
   "execution_count": 891,
   "metadata": {},
   "outputs": [
    {
     "data": {
      "text/html": [
       "<div>\n",
       "<style scoped>\n",
       "    .dataframe tbody tr th:only-of-type {\n",
       "        vertical-align: middle;\n",
       "    }\n",
       "\n",
       "    .dataframe tbody tr th {\n",
       "        vertical-align: top;\n",
       "    }\n",
       "\n",
       "    .dataframe thead th {\n",
       "        text-align: right;\n",
       "    }\n",
       "</style>\n",
       "<table border=\"1\" class=\"dataframe\">\n",
       "  <thead>\n",
       "    <tr style=\"text-align: right;\">\n",
       "      <th></th>\n",
       "      <th>Title</th>\n",
       "      <th>Survived</th>\n",
       "    </tr>\n",
       "  </thead>\n",
       "  <tbody>\n",
       "    <tr>\n",
       "      <th>0</th>\n",
       "      <td>0</td>\n",
       "      <td>0.156673</td>\n",
       "    </tr>\n",
       "    <tr>\n",
       "      <th>1</th>\n",
       "      <td>1</td>\n",
       "      <td>0.347826</td>\n",
       "    </tr>\n",
       "    <tr>\n",
       "      <th>2</th>\n",
       "      <td>2</td>\n",
       "      <td>0.575000</td>\n",
       "    </tr>\n",
       "    <tr>\n",
       "      <th>3</th>\n",
       "      <td>3</td>\n",
       "      <td>0.702703</td>\n",
       "    </tr>\n",
       "    <tr>\n",
       "      <th>4</th>\n",
       "      <td>4</td>\n",
       "      <td>0.793651</td>\n",
       "    </tr>\n",
       "  </tbody>\n",
       "</table>\n",
       "</div>"
      ],
      "text/plain": [
       "   Title  Survived\n",
       "0      0  0.156673\n",
       "1      1  0.347826\n",
       "2      2  0.575000\n",
       "3      3  0.702703\n",
       "4      4  0.793651"
      ]
     },
     "metadata": {},
     "output_type": "display_data"
    }
   ],
   "source": [
    "def process_name(df):\n",
    "    df['Title'] = df['Name'].str.extract(' ([A-Za-z]+)\\.', expand=False)\n",
    "    df['Title'].replace(['Lady', 'Countess','Capt', 'Col', 'Don', 'Dr', 'Major', \n",
    "                           'Rev', 'Sir', 'Jonkheer', 'Dona'], 'Others', inplace=True)\n",
    "    df['Title'].replace('Mlle', 'Miss', inplace=True)\n",
    "    df['Title'].replace('Mme', 'Mrs', inplace=True)\n",
    "    df['Title'].replace('Ms', 'Miss', inplace=True)\n",
    "    df['Title'] = df['Title'].map({'Mr': 0, 'Others': 1, 'Master': 2, 'Miss': 3, 'Mrs': 4})\n",
    "    \n",
    "    df.drop('Name', axis=1, inplace=True)\n",
    "\n",
    "process_name(df_train)\n",
    "process_name(df_test)\n",
    "\n",
    "display(df_train[['Title', 'Survived']].groupby(['Title'], as_index = False).mean())"
   ]
  },
  {
   "cell_type": "code",
   "execution_count": 892,
   "metadata": {},
   "outputs": [],
   "source": [
    "def process_sex(df):\n",
    "    dummies = pd.get_dummies(df['Sex'], prefix = 'Sex')\n",
    "    df.drop('Sex', axis=1, inplace=True)\n",
    "    return df.join(dummies)\n",
    "    \n",
    "df_train = process_sex(df_train)\n",
    "df_test = process_sex(df_test)"
   ]
  },
  {
   "cell_type": "markdown",
   "metadata": {},
   "source": [
    "From 'SibSp' and 'Parch' features, we will engineer two new features called 'IsAlone' and 'FamilySize'.\n",
    " - 'IsAlone' indicates if each sample is traveling alone.\n",
    " - 'FamilySize' represents the number of family members traveling with the sample."
   ]
  },
  {
   "cell_type": "code",
   "execution_count": 893,
   "metadata": {},
   "outputs": [
    {
     "data": {
      "text/plain": [
       "<seaborn.axisgrid.FacetGrid at 0x1a37d9dc50>"
      ]
     },
     "execution_count": 893,
     "metadata": {},
     "output_type": "execute_result"
    },
    {
     "data": {
      "image/png": "[encoded data removed]",
      "text/plain": [
       "<Figure size 216x360 with 1 Axes>"
      ]
     },
     "metadata": {
      "needs_background": "light"
     },
     "output_type": "display_data"
    }
   ],
   "source": [
    "def process_alone(df):\n",
    "    df['IsAlone'] = 0\n",
    "    df.loc[df['SibSp'] + df['Parch'] == 0, 'IsAlone'] = 1\n",
    "    \n",
    "process_alone(df_train)\n",
    "process_alone(df_test)\n",
    "sns.catplot(x='IsAlone', y='Survived', data=df_train, saturation=.5, kind='bar', ci=None, aspect=.6)"
   ]
  },
  {
   "cell_type": "code",
   "execution_count": 894,
   "metadata": {},
   "outputs": [
    {
     "data": {
      "text/plain": [
       "<seaborn.axisgrid.FacetGrid at 0x1a384775f8>"
      ]
     },
     "execution_count": 894,
     "metadata": {},
     "output_type": "execute_result"
    },
    {
     "data": {
      "image/png": "[encoded data removed]",
      "text/plain": [
       "<Figure size 216x360 with 1 Axes>"
      ]
     },
     "metadata": {
      "needs_background": "light"
     },
     "output_type": "display_data"
    }
   ],
   "source": [
    "def process_familysize(df):\n",
    "    df['FamilySize'] = df['SibSp'] + df['Parch'] + 1\n",
    "    df['FamilySize'] = df['FamilySize'].map({1:2 , 2:3, 3:3, 4:3, 5:1, 6:1, 7:2, 8:0, 11:0})\n",
    "    \n",
    "    df.drop(['SibSp', 'Parch'], axis=1, inplace=True)\n",
    "    \n",
    "process_familysize(df_train)\n",
    "process_familysize(df_test)\n",
    "sns.catplot(x='FamilySize', y='Survived', data=df_train, saturation=.5, kind='bar', ci=None, aspect=.6)"
   ]
  },
  {
   "cell_type": "markdown",
   "metadata": {},
   "source": [
    "Now, we will turn continuous float variables 'Fare' and 'Age' into categorical varaibles. Each variable will be engineered in a way that a unique value for the variable has a significantly different survival chance."
   ]
  },
  {
   "cell_type": "code",
   "execution_count": 895,
   "metadata": {},
   "outputs": [
    {
     "data": {
      "text/plain": [
       "<seaborn.axisgrid.FacetGrid at 0x1a3846dda0>"
      ]
     },
     "execution_count": 895,
     "metadata": {},
     "output_type": "execute_result"
    },
    {
     "data": {
      "image/png": "[encoded data removed]",
      "text/plain": [
       "<Figure size 216x360 with 1 Axes>"
      ]
     },
     "metadata": {
      "needs_background": "light"
     },
     "output_type": "display_data"
    }
   ],
   "source": [
    "label = LabelEncoder()\n",
    "\n",
    "def process_fare(df):\n",
    "    df['Fare'] = pd.qcut(df['Fare'], 4)\n",
    "    df['Fare'] = label.fit_transform(df['Fare'])\n",
    "    \n",
    "process_fare(df_train)\n",
    "process_fare(df_test)\n",
    "sns.catplot(x='Fare', y='Survived', data=df_train, saturation=.5, kind='bar', ci=None, aspect=.6)"
   ]
  },
  {
   "cell_type": "code",
   "execution_count": 896,
   "metadata": {},
   "outputs": [
    {
     "data": {
      "text/plain": [
       "<seaborn.axisgrid.FacetGrid at 0x1a3848ae80>"
      ]
     },
     "execution_count": 896,
     "metadata": {},
     "output_type": "execute_result"
    },
    {
     "data": {
      "image/png": "[encoded data removed]",
      "text/plain": [
       "<Figure size 216x360 with 1 Axes>"
      ]
     },
     "metadata": {
      "needs_background": "light"
     },
     "output_type": "display_data"
    }
   ],
   "source": [
    "def process_age(df):\n",
    "    df['Age'] = pd.cut(df['Age'].astype(int), 6)\n",
    "    df['Age'] = label.fit_transform(df['Age'])\n",
    "    df['Age'] = df['Age'].map({0: 0, 1: 1, 2:1, 3:1, 4:1, 5:2})\n",
    "\n",
    "process_age(df_train)\n",
    "process_age(df_test)\n",
    "sns.catplot(x='Age', y='Survived', data=df_train, saturation=.5, kind='bar', ci=None, aspect=.6)"
   ]
  },
  {
   "cell_type": "code",
   "execution_count": 897,
   "metadata": {},
   "outputs": [
    {
     "name": "stdout",
     "output_type": "stream",
     "text": [
      "<class 'pandas.core.frame.DataFrame'>\n",
      "RangeIndex: 891 entries, 0 to 890\n",
      "Data columns (total 8 columns):\n",
      "Pclass        891 non-null int64\n",
      "Age           891 non-null int64\n",
      "Fare          891 non-null int64\n",
      "Title         891 non-null int64\n",
      "Sex_female    891 non-null uint8\n",
      "Sex_male      891 non-null uint8\n",
      "IsAlone       891 non-null int64\n",
      "FamilySize    891 non-null int64\n",
      "dtypes: int64(6), uint8(2)\n",
      "memory usage: 43.6 KB\n"
     ]
    },
    {
     "data": {
      "text/plain": [
       "None"
      ]
     },
     "metadata": {},
     "output_type": "display_data"
    }
   ],
   "source": [
    "X_train = df_train.drop('Survived', axis = 1)\n",
    "y_train = df_train['Survived']\n",
    "X_test = df_test\n",
    "\n",
    "display(X_train.info())"
   ]
  },
  {
   "cell_type": "code",
   "execution_count": 898,
   "metadata": {},
   "outputs": [
    {
     "data": {
      "text/plain": [
       "<matplotlib.axes._subplots.AxesSubplot at 0x1a38794080>"
      ]
     },
     "execution_count": 898,
     "metadata": {},
     "output_type": "execute_result"
    },
    {
     "data": {
      "image/png": "[encoded data removed]",
      "text/plain": [
       "<Figure size 432x288 with 2 Axes>"
      ]
     },
     "metadata": {
      "needs_background": "light"
     },
     "output_type": "display_data"
    }
   ],
   "source": [
    "sns.heatmap(X_train.join(df_train['Survived']).corr(), linewidths=0.1, vmax=1.0, square=True, linecolor='white', annot=True)"
   ]
  },
  {
   "cell_type": "markdown",
   "metadata": {},
   "source": [
    "### Part 2.3: Feature Scaling"
   ]
  },
  {
   "cell_type": "markdown",
   "metadata": {},
   "source": [
    "As a final step of Part 2, we will scale all the features. This improves performances of some machine learning algorithms by assigning equal weights to all the features. To scale the features, we will use StandardScaler from sklearn.preprocessing.\n",
    "\n",
    "Documentation:\n",
    "[sklearn.preprocessing.StandardScaler](https://scikit-learn.org/stable/modules/generated/sklearn.preprocessing.StandardScaler.html \"StandardScaler\")"
   ]
  },
  {
   "cell_type": "code",
   "execution_count": 899,
   "metadata": {},
   "outputs": [
    {
     "data": {
      "text/html": [
       "<div>\n",
       "<style scoped>\n",
       "    .dataframe tbody tr th:only-of-type {\n",
       "        vertical-align: middle;\n",
       "    }\n",
       "\n",
       "    .dataframe tbody tr th {\n",
       "        vertical-align: top;\n",
       "    }\n",
       "\n",
       "    .dataframe thead th {\n",
       "        text-align: right;\n",
       "    }\n",
       "</style>\n",
       "<table border=\"1\" class=\"dataframe\">\n",
       "  <thead>\n",
       "    <tr style=\"text-align: right;\">\n",
       "      <th></th>\n",
       "      <th>Pclass</th>\n",
       "      <th>Age</th>\n",
       "      <th>Fare</th>\n",
       "      <th>Title</th>\n",
       "      <th>Sex_female</th>\n",
       "      <th>Sex_male</th>\n",
       "      <th>IsAlone</th>\n",
       "      <th>FamilySize</th>\n",
       "    </tr>\n",
       "  </thead>\n",
       "  <tbody>\n",
       "    <tr>\n",
       "      <th>0</th>\n",
       "      <td>0.827377</td>\n",
       "      <td>0.21881</td>\n",
       "      <td>-1.339737</td>\n",
       "      <td>-0.803277</td>\n",
       "      <td>-0.737695</td>\n",
       "      <td>0.737695</td>\n",
       "      <td>-1.231645</td>\n",
       "      <td>1.235647</td>\n",
       "    </tr>\n",
       "    <tr>\n",
       "      <th>1</th>\n",
       "      <td>-1.566107</td>\n",
       "      <td>0.21881</td>\n",
       "      <td>1.344758</td>\n",
       "      <td>1.660474</td>\n",
       "      <td>1.355574</td>\n",
       "      <td>-1.355574</td>\n",
       "      <td>-1.231645</td>\n",
       "      <td>1.235647</td>\n",
       "    </tr>\n",
       "    <tr>\n",
       "      <th>2</th>\n",
       "      <td>0.827377</td>\n",
       "      <td>0.21881</td>\n",
       "      <td>-0.444905</td>\n",
       "      <td>1.044536</td>\n",
       "      <td>1.355574</td>\n",
       "      <td>-1.355574</td>\n",
       "      <td>0.811922</td>\n",
       "      <td>-0.427437</td>\n",
       "    </tr>\n",
       "    <tr>\n",
       "      <th>3</th>\n",
       "      <td>-1.566107</td>\n",
       "      <td>0.21881</td>\n",
       "      <td>1.344758</td>\n",
       "      <td>1.660474</td>\n",
       "      <td>1.355574</td>\n",
       "      <td>-1.355574</td>\n",
       "      <td>-1.231645</td>\n",
       "      <td>1.235647</td>\n",
       "    </tr>\n",
       "    <tr>\n",
       "      <th>4</th>\n",
       "      <td>0.827377</td>\n",
       "      <td>0.21881</td>\n",
       "      <td>-0.444905</td>\n",
       "      <td>-0.803277</td>\n",
       "      <td>-0.737695</td>\n",
       "      <td>0.737695</td>\n",
       "      <td>0.811922</td>\n",
       "      <td>-0.427437</td>\n",
       "    </tr>\n",
       "  </tbody>\n",
       "</table>\n",
       "</div>"
      ],
      "text/plain": [
       "     Pclass      Age      Fare     Title  Sex_female  Sex_male   IsAlone  \\\n",
       "0  0.827377  0.21881 -1.339737 -0.803277   -0.737695  0.737695 -1.231645   \n",
       "1 -1.566107  0.21881  1.344758  1.660474    1.355574 -1.355574 -1.231645   \n",
       "2  0.827377  0.21881 -0.444905  1.044536    1.355574 -1.355574  0.811922   \n",
       "3 -1.566107  0.21881  1.344758  1.660474    1.355574 -1.355574 -1.231645   \n",
       "4  0.827377  0.21881 -0.444905 -0.803277   -0.737695  0.737695  0.811922   \n",
       "\n",
       "   FamilySize  \n",
       "0    1.235647  \n",
       "1    1.235647  \n",
       "2   -0.427437  \n",
       "3    1.235647  \n",
       "4   -0.427437  "
      ]
     },
     "metadata": {},
     "output_type": "display_data"
    },
    {
     "name": "stdout",
     "output_type": "stream",
     "text": [
      "<class 'pandas.core.frame.DataFrame'>\n",
      "RangeIndex: 891 entries, 0 to 890\n",
      "Data columns (total 8 columns):\n",
      "Pclass        891 non-null float64\n",
      "Age           891 non-null float64\n",
      "Fare          891 non-null float64\n",
      "Title         891 non-null float64\n",
      "Sex_female    891 non-null float64\n",
      "Sex_male      891 non-null float64\n",
      "IsAlone       891 non-null float64\n",
      "FamilySize    891 non-null float64\n",
      "dtypes: float64(8)\n",
      "memory usage: 55.8 KB\n"
     ]
    },
    {
     "data": {
      "text/plain": [
       "None"
      ]
     },
     "metadata": {},
     "output_type": "display_data"
    }
   ],
   "source": [
    "scaler = StandardScaler()\n",
    "\n",
    "scaler.fit(X_train)\n",
    "X_train = pd.DataFrame(scaler.transform(X_train), columns = X_train.columns)\n",
    "X_test = pd.DataFrame(scaler.transform(X_test), columns = X_test.columns)\n",
    "\n",
    "display(X_train.head())\n",
    "display(X_train.info())"
   ]
  },
  {
   "cell_type": "code",
   "execution_count": 900,
   "metadata": {},
   "outputs": [
    {
     "data": {
      "text/plain": [
       "<matplotlib.axes._subplots.AxesSubplot at 0x1a3893fa20>"
      ]
     },
     "execution_count": 900,
     "metadata": {},
     "output_type": "execute_result"
    },
    {
     "data": {
      "image/png": "[encoded data removed]",
      "text/plain": [
       "<Figure size 432x288 with 2 Axes>"
      ]
     },
     "metadata": {
      "needs_background": "light"
     },
     "output_type": "display_data"
    }
   ],
   "source": [
    "sns.heatmap(X_train.join(df_train['Survived']).corr(), linewidths=0.1, vmax=1.0, square=True, linecolor='white', annot=True)"
   ]
  },
  {
   "cell_type": "markdown",
   "metadata": {},
   "source": [
    "## Part 3: Model Selection"
   ]
  },
  {
   "cell_type": "markdown",
   "metadata": {},
   "source": [
    "### Part 3.1: Hyperparameter Tuning"
   ]
  },
  {
   "cell_type": "code",
   "execution_count": 875,
   "metadata": {},
   "outputs": [
    {
     "name": "stdout",
     "output_type": "stream",
     "text": [
      "{'criterion': 'gini', 'max_depth': 3}\n",
      "0.8282828282828283\n"
     ]
    }
   ],
   "source": [
    "params = {'criterion': ['gini', 'entropy'], \n",
    "          'max_depth': [2, 3, 4, 5, 6, 7, 8, 9, 10]\n",
    "}\n",
    "\n",
    "search = GridSearchCV(estimator=DecisionTreeClassifier(random_state=42), param_grid=params, cv=5)\n",
    "search.fit(X_train, y_train)\n",
    "\n",
    "print(search.best_params_)\n",
    "print(search.best_score_)"
   ]
  },
  {
   "cell_type": "code",
   "execution_count": 729,
   "metadata": {},
   "outputs": [
    {
     "name": "stdout",
     "output_type": "stream",
     "text": [
      "{'learning_rate': 0.05, 'n_estimators': 50}\n",
      "0.8282828282828283\n"
     ]
    }
   ],
   "source": [
    "params = {'n_estimators': [45, 50, 55], \n",
    "          'learning_rate': [0.04, 0.05, 0.06]\n",
    "}\n",
    "\n",
    "search = GridSearchCV(estimator=AdaBoostClassifier(random_state=42), param_grid=params, cv=5)\n",
    "search.fit(X_train, y_train)\n",
    "\n",
    "print(search.best_params_)\n",
    "print(search.best_score_)"
   ]
  },
  {
   "cell_type": "code",
   "execution_count": 732,
   "metadata": {},
   "outputs": [
    {
     "name": "stdout",
     "output_type": "stream",
     "text": [
      "{'max_samples': 60, 'n_estimators': 40}\n",
      "0.8204264870931538\n"
     ]
    }
   ],
   "source": [
    "params = {'n_estimators': [20, 30, 40], \n",
    "          'max_samples': [60, 70, 80]\n",
    "}\n",
    "\n",
    "search = GridSearchCV(estimator=BaggingClassifier(random_state=42), param_grid=params, cv=5)\n",
    "search.fit(X_train, y_train)\n",
    "\n",
    "print(search.best_params_)\n",
    "print(search.best_score_)"
   ]
  },
  {
   "cell_type": "code",
   "execution_count": 735,
   "metadata": {},
   "outputs": [
    {
     "name": "stdout",
     "output_type": "stream",
     "text": [
      "{'criterion': 'gini', 'max_depth': 4, 'n_estimators': 170}\n",
      "0.813692480359147\n"
     ]
    }
   ],
   "source": [
    "params = {'n_estimators': [170, 180, 190], \n",
    "          'criterion': ['gini', 'entropy'],\n",
    "          'max_depth': [2, 3, 4, 5, 6]\n",
    "}\n",
    "\n",
    "search = GridSearchCV(estimator=ExtraTreesClassifier(random_state=42), param_grid=params, cv=5)\n",
    "search.fit(X_train, y_train)\n",
    "\n",
    "print(search.best_params_)\n",
    "print(search.best_score_)"
   ]
  },
  {
   "cell_type": "code",
   "execution_count": 740,
   "metadata": {},
   "outputs": [
    {
     "name": "stdout",
     "output_type": "stream",
     "text": [
      "{'criterion': 'gini', 'min_samples_split': 3, 'n_estimators': 70}\n",
      "0.8035914702581369\n"
     ]
    }
   ],
   "source": [
    "params = {'n_estimators': [70, 80, 90], \n",
    "          'criterion': ['gini', 'entropy'],\n",
    "          'min_samples_split': [2, 3, 4, 5]\n",
    "}\n",
    "\n",
    "search = GridSearchCV(estimator=RandomForestClassifier(random_state=42), param_grid=params, cv=5)\n",
    "search.fit(X_train, y_train)\n",
    "\n",
    "print(search.best_params_)\n",
    "print(search.best_score_)"
   ]
  },
  {
   "cell_type": "code",
   "execution_count": 745,
   "metadata": {},
   "outputs": [
    {
     "name": "stdout",
     "output_type": "stream",
     "text": [
      "{'learning_rate': 0.012, 'max_depth': 3}\n",
      "0.8282828282828283\n"
     ]
    }
   ],
   "source": [
    "params = {'learning_rate': [0.012, 0.013, 0.014], \n",
    "          'max_depth': [2, 3, 4, 5, 6]\n",
    "}\n",
    "\n",
    "search = GridSearchCV(estimator=HistGradientBoostingClassifier(random_state=42), param_grid=params, cv=5)\n",
    "search.fit(X_train, y_train)\n",
    "\n",
    "print(search.best_params_)\n",
    "print(search.best_score_)"
   ]
  },
  {
   "cell_type": "code",
   "execution_count": 748,
   "metadata": {},
   "outputs": [
    {
     "name": "stdout",
     "output_type": "stream",
     "text": [
      "{'C': 2, 'multi_class': 'crammer_singer'}\n",
      "0.8170594837261503\n"
     ]
    }
   ],
   "source": [
    "params = {'C': [1.5, 2, 2.5],\n",
    "          'multi_class': ['ovr', 'crammer_singer']\n",
    "         }\n",
    "\n",
    "search = GridSearchCV(estimator=LinearSVC(random_state=42), param_grid=params, cv=5)\n",
    "search.fit(X_train, y_train)\n",
    "\n",
    "print(search.best_params_)\n",
    "print(search.best_score_)"
   ]
  },
  {
   "cell_type": "code",
   "execution_count": 756,
   "metadata": {},
   "outputs": [
    {
     "name": "stdout",
     "output_type": "stream",
     "text": [
      "{'C': 2, 'decision_function_shape': 'ovo', 'gamma': 0.3}\n",
      "0.8294051627384961\n"
     ]
    }
   ],
   "source": [
    "params = {'C': [1, 2, 3, 4, 5],\n",
    "          'decision_function_shape': ['ovo', 'ovr'],\n",
    "          'gamma': [0.25, 0.3, 0.35]\n",
    "         }\n",
    "\n",
    "search = GridSearchCV(estimator=SVC(random_state=42), param_grid=params, cv=5)\n",
    "search.fit(X_train, y_train)\n",
    "\n",
    "print(search.best_params_)\n",
    "print(search.best_score_)"
   ]
  },
  {
   "cell_type": "code",
   "execution_count": 765,
   "metadata": {},
   "outputs": [
    {
     "name": "stdout",
     "output_type": "stream",
     "text": [
      "{'colsample_bytree': 0.001, 'gamma': 0.0001, 'max_depth': 2, 'n_estimators': 80, 'subsample': 0.5}\n",
      "0.8226711560044894\n"
     ]
    }
   ],
   "source": [
    "params = {'colsample_bytree':[0.001],\n",
    "          'gamma':[0.0001],\n",
    "          'max_depth': [2],\n",
    "          'n_estimators': [70, 80, 90],\n",
    "          'subsample': [0.4, 0.5, 0.6]\n",
    "}\n",
    "\n",
    "search = GridSearchCV(estimator=XGBClassifier(random_state=42), param_grid=params, cv=5)\n",
    "search.fit(X_train, y_train)\n",
    "\n",
    "print(search.best_params_)\n",
    "print(search.best_score_)"
   ]
  },
  {
   "cell_type": "markdown",
   "metadata": {},
   "source": [
    "### Classifier Performance\n",
    "\n",
    "| Classifier | Best Hyperparameters | Accuracy |\n",
    "| --- | --- | --- |\n",
    "| DecisionTreeClassifier | {'criterion': 'gini', 'max_depth': 3} | 0.8282828282828283 |\n",
    "| AdaBoostClassifier | {'learning_rate': 0.05, 'n_estimators': 50} | 0.8282828282828283 |\n",
    "| BaggingClassifier | {'max_samples': 60, 'n_estimators': 40} | 0.8204264870931538 |\n",
    "| ExtraTreesClassifier | {'criterion': 'gini', 'max_depth': 4, 'n_estimators': 170} | 0.813692480359147 |\n",
    "| RandomForestClassifier | {'criterion': 'gini', 'min_samples_split': 3, 'n_estimators': 70} | 0.8035914702581369 |\n",
    "| HistGradientBoostingClassifier | {'learning_rate': 0.012, 'max_depth': 3} | 0.8282828282828283 |\n",
    "| LinearSVC | {'C': 2, 'multi_class': 'crammer_singer'} | 0.8170594837261503 |\n",
    "| SVC | {'C': 2, 'decision_function_shape': 'ovo', 'gamma': 0.3} | 0.8294051627384961 |\n",
    "| XGBClassifier | {'colsample_bytree': 0.001, 'gamma': 0.0001, 'max_depth': 2, 'n_estimators': 80, 'subsample': 0.5} | 0.8226711560044894 |"
   ]
  },
  {
   "cell_type": "markdown",
   "metadata": {},
   "source": [
    "### Part 3.2: Stacking Classifiers"
   ]
  },
  {
   "cell_type": "code",
   "execution_count": 908,
   "metadata": {},
   "outputs": [
    {
     "data": {
      "text/plain": [
       "0.8327721661054994"
      ]
     },
     "execution_count": 908,
     "metadata": {},
     "output_type": "execute_result"
    }
   ],
   "source": [
    "clf1 = DecisionTreeClassifier(criterion='gini', max_depth=3, random_state=42)\n",
    "clf2 = AdaBoostClassifier(learning_rate=0.05, n_estimators=50, random_state=42)\n",
    "clf3 = BaggingClassifier(max_samples=60, n_estimators=40, random_state=42)\n",
    "clf4 = ExtraTreesClassifier(criterion='gini', max_depth=4, n_estimators=170, random_state=42)\n",
    "clf5 = RandomForestClassifier(criterion='gini', max_depth=3, n_estimators=70, random_state=42)\n",
    "clf6 = HistGradientBoostingClassifier(learning_rate=0.012, max_depth=3, random_state=42)\n",
    "clf7 = LinearSVC(C=2, multi_class='crammer_singer', random_state=42)\n",
    "clf8 = SVC(C=2, decision_function_shape='ovo', gamma=0.3, random_state=42)\n",
    "clf9 = XGBClassifier(colsample_bytree=0.001, gamma=0.0001, max_depth=2, n_estimators=80, subsample=0.5, random_state=42)\n",
    "\n",
    "clf = VotingClassifier(estimators = [('dtc', clf1), ('abc', clf2), ('bc', clf3), ('etc', clf4), \n",
    "                                     ('rfc', clf5), ('hgbc', clf6), ('lsvc', clf7), ('svc', clf8), \n",
    "                                     ('xgb', clf9)], voting = 'hard')\n",
    "\n",
    "clf.fit(X_train, y_train)\n",
    "clf.score(X_train, y_train)"
   ]
  },
  {
   "cell_type": "markdown",
   "metadata": {},
   "source": [
    "### Part 3.3: Final Prediction"
   ]
  },
  {
   "cell_type": "code",
   "execution_count": 906,
   "metadata": {},
   "outputs": [],
   "source": [
    "y_test_pred = clf.predict(X_test)\n",
    "pd.concat([df_test_pid, pd.DataFrame(y_test_pred, columns = ['Survived'])], axis = 1).to_csv('result.csv', index = False)"
   ]
  }
 ],
 "metadata": {
  "kernelspec": {
   "display_name": "Python 3",
   "language": "python",
   "name": "python3"
  },
  "language_info": {
   "codemirror_mode": {
    "name": "ipython",
    "version": 3
   },
   "file_extension": ".py",
   "mimetype": "text/x-python",
   "name": "python",
   "nbconvert_exporter": "python",
   "pygments_lexer": "ipython3",
   "version": "3.7.2"
  }
 },
 "nbformat": 4,
 "nbformat_minor": 2
}
