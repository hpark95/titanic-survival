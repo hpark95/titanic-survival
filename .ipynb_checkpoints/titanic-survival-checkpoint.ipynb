{
 "cells": [
  {
   "cell_type": "code",
   "execution_count": 921,
   "metadata": {
    "scrolled": true
   },
   "outputs": [
    {
     "data": {
      "text/html": [
       "<div>\n",
       "<style scoped>\n",
       "    .dataframe tbody tr th:only-of-type {\n",
       "        vertical-align: middle;\n",
       "    }\n",
       "\n",
       "    .dataframe tbody tr th {\n",
       "        vertical-align: top;\n",
       "    }\n",
       "\n",
       "    .dataframe thead th {\n",
       "        text-align: right;\n",
       "    }\n",
       "</style>\n",
       "<table border=\"1\" class=\"dataframe\">\n",
       "  <thead>\n",
       "    <tr style=\"text-align: right;\">\n",
       "      <th></th>\n",
       "      <th>PassengerId</th>\n",
       "      <th>Survived</th>\n",
       "      <th>Pclass</th>\n",
       "      <th>Name</th>\n",
       "      <th>Sex</th>\n",
       "      <th>Age</th>\n",
       "      <th>SibSp</th>\n",
       "      <th>Parch</th>\n",
       "      <th>Ticket</th>\n",
       "      <th>Fare</th>\n",
       "      <th>Cabin</th>\n",
       "      <th>Embarked</th>\n",
       "    </tr>\n",
       "  </thead>\n",
       "  <tbody>\n",
       "    <tr>\n",
       "      <th>0</th>\n",
       "      <td>1</td>\n",
       "      <td>0</td>\n",
       "      <td>3</td>\n",
       "      <td>Braund, Mr. Owen Harris</td>\n",
       "      <td>male</td>\n",
       "      <td>22.0</td>\n",
       "      <td>1</td>\n",
       "      <td>0</td>\n",
       "      <td>A/5 21171</td>\n",
       "      <td>7.2500</td>\n",
       "      <td>NaN</td>\n",
       "      <td>S</td>\n",
       "    </tr>\n",
       "    <tr>\n",
       "      <th>1</th>\n",
       "      <td>2</td>\n",
       "      <td>1</td>\n",
       "      <td>1</td>\n",
       "      <td>Cumings, Mrs. John Bradley (Florence Briggs Th...</td>\n",
       "      <td>female</td>\n",
       "      <td>38.0</td>\n",
       "      <td>1</td>\n",
       "      <td>0</td>\n",
       "      <td>PC 17599</td>\n",
       "      <td>71.2833</td>\n",
       "      <td>C85</td>\n",
       "      <td>C</td>\n",
       "    </tr>\n",
       "    <tr>\n",
       "      <th>2</th>\n",
       "      <td>3</td>\n",
       "      <td>1</td>\n",
       "      <td>3</td>\n",
       "      <td>Heikkinen, Miss. Laina</td>\n",
       "      <td>female</td>\n",
       "      <td>26.0</td>\n",
       "      <td>0</td>\n",
       "      <td>0</td>\n",
       "      <td>STON/O2. 3101282</td>\n",
       "      <td>7.9250</td>\n",
       "      <td>NaN</td>\n",
       "      <td>S</td>\n",
       "    </tr>\n",
       "    <tr>\n",
       "      <th>3</th>\n",
       "      <td>4</td>\n",
       "      <td>1</td>\n",
       "      <td>1</td>\n",
       "      <td>Futrelle, Mrs. Jacques Heath (Lily May Peel)</td>\n",
       "      <td>female</td>\n",
       "      <td>35.0</td>\n",
       "      <td>1</td>\n",
       "      <td>0</td>\n",
       "      <td>113803</td>\n",
       "      <td>53.1000</td>\n",
       "      <td>C123</td>\n",
       "      <td>S</td>\n",
       "    </tr>\n",
       "    <tr>\n",
       "      <th>4</th>\n",
       "      <td>5</td>\n",
       "      <td>0</td>\n",
       "      <td>3</td>\n",
       "      <td>Allen, Mr. William Henry</td>\n",
       "      <td>male</td>\n",
       "      <td>35.0</td>\n",
       "      <td>0</td>\n",
       "      <td>0</td>\n",
       "      <td>373450</td>\n",
       "      <td>8.0500</td>\n",
       "      <td>NaN</td>\n",
       "      <td>S</td>\n",
       "    </tr>\n",
       "  </tbody>\n",
       "</table>\n",
       "</div>"
      ],
      "text/plain": [
       "   PassengerId  Survived  Pclass  \\\n",
       "0            1         0       3   \n",
       "1            2         1       1   \n",
       "2            3         1       3   \n",
       "3            4         1       1   \n",
       "4            5         0       3   \n",
       "\n",
       "                                                Name     Sex   Age  SibSp  \\\n",
       "0                            Braund, Mr. Owen Harris    male  22.0      1   \n",
       "1  Cumings, Mrs. John Bradley (Florence Briggs Th...  female  38.0      1   \n",
       "2                             Heikkinen, Miss. Laina  female  26.0      0   \n",
       "3       Futrelle, Mrs. Jacques Heath (Lily May Peel)  female  35.0      1   \n",
       "4                           Allen, Mr. William Henry    male  35.0      0   \n",
       "\n",
       "   Parch            Ticket     Fare Cabin Embarked  \n",
       "0      0         A/5 21171   7.2500   NaN        S  \n",
       "1      0          PC 17599  71.2833   C85        C  \n",
       "2      0  STON/O2. 3101282   7.9250   NaN        S  \n",
       "3      0            113803  53.1000  C123        S  \n",
       "4      0            373450   8.0500   NaN        S  "
      ]
     },
     "execution_count": 921,
     "metadata": {},
     "output_type": "execute_result"
    }
   ],
   "source": [
    "import pandas as pd\n",
    "import seaborn as sns\n",
    "import matplotlib.pyplot as plt\n",
    "%matplotlib inline\n",
    "\n",
    "df_train = pd.read_csv('train.csv')\n",
    "df_test = pd.read_csv('test.csv')\n",
    "\n",
    "df_train.head()"
   ]
  },
  {
   "cell_type": "code",
   "execution_count": 922,
   "metadata": {},
   "outputs": [
    {
     "data": {
      "text/plain": [
       "<seaborn.axisgrid.FacetGrid at 0x1a2e126d30>"
      ]
     },
     "execution_count": 922,
     "metadata": {},
     "output_type": "execute_result"
    },
    {
     "data": {
      "image/png": "[encoded data removed]",
      "text/plain": [
       "<Figure size 216x360 with 1 Axes>"
      ]
     },
     "metadata": {
      "needs_background": "light"
     },
     "output_type": "display_data"
    },
    {
     "data": {
      "image/png": "[encoded data removed]",
      "text/plain": [
       "<Figure size 216x360 with 1 Axes>"
      ]
     },
     "metadata": {
      "needs_background": "light"
     },
     "output_type": "display_data"
    },
    {
     "data": {
      "image/png": "[encoded data removed]",
      "text/plain": [
       "<Figure size 216x360 with 1 Axes>"
      ]
     },
     "metadata": {
      "needs_background": "light"
     },
     "output_type": "display_data"
    },
    {
     "data": {
      "image/png": "[encoded data removed]",
      "text/plain": [
       "<Figure size 216x360 with 1 Axes>"
      ]
     },
     "metadata": {
      "needs_background": "light"
     },
     "output_type": "display_data"
    },
    {
     "data": {
      "image/png": "[encoded data removed]",
      "text/plain": [
       "<Figure size 216x360 with 1 Axes>"
      ]
     },
     "metadata": {
      "needs_background": "light"
     },
     "output_type": "display_data"
    }
   ],
   "source": [
    "#f, ax = plt.subplots(5, figsize=(6, 6))\n",
    "sns.set_color_codes(\"pastel\")\n",
    "sns.catplot(x='Sex', y='Survived', data=df_train, saturation=.5, kind='bar', ci=None, aspect=.6)\n",
    "sns.catplot(x='Pclass', y='Survived', data=df_train, saturation=.5, kind='bar', ci=None, aspect=.6)\n",
    "sns.catplot(x='SibSp', y='Survived', data=df_train, saturation=.5, kind='bar', ci=None, aspect=.6)\n",
    "sns.catplot(x='Parch', y='Survived', data=df_train, saturation=.5, kind='bar', ci=None, aspect=.6)\n",
    "sns.catplot(x='Embarked', y='Survived', data=df_train, saturation=.5, kind='bar', ci=None, aspect=.6)"
   ]
  },
  {
   "cell_type": "code",
   "execution_count": 923,
   "metadata": {},
   "outputs": [
    {
     "data": {
      "text/plain": [
       "<matplotlib.axes._subplots.AxesSubplot at 0x1a2d6b1940>"
      ]
     },
     "execution_count": 923,
     "metadata": {},
     "output_type": "execute_result"
    },
    {
     "data": {
      "image/png": "[encoded data removed]",
      "text/plain": [
       "<Figure size 432x288 with 2 Axes>"
      ]
     },
     "metadata": {
      "needs_background": "light"
     },
     "output_type": "display_data"
    }
   ],
   "source": [
    "sns.heatmap(df_train.corr(), linewidths = 0.1, vmax = 1.0, square = True, linecolor = 'white', annot = True)"
   ]
  },
  {
   "cell_type": "code",
   "execution_count": 924,
   "metadata": {
    "scrolled": true
   },
   "outputs": [
    {
     "data": {
      "text/plain": [
       "PassengerId      0\n",
       "Survived         0\n",
       "Pclass           0\n",
       "Name             0\n",
       "Sex              0\n",
       "Age            177\n",
       "SibSp            0\n",
       "Parch            0\n",
       "Ticket           0\n",
       "Fare             0\n",
       "Cabin          687\n",
       "Embarked         2\n",
       "dtype: int64"
      ]
     },
     "metadata": {},
     "output_type": "display_data"
    },
    {
     "name": "stdout",
     "output_type": "stream",
     "text": [
      "------------------------------\n"
     ]
    },
    {
     "data": {
      "text/plain": [
       "PassengerId      0\n",
       "Pclass           0\n",
       "Name             0\n",
       "Sex              0\n",
       "Age             86\n",
       "SibSp            0\n",
       "Parch            0\n",
       "Ticket           0\n",
       "Fare             1\n",
       "Cabin          327\n",
       "Embarked         0\n",
       "dtype: int64"
      ]
     },
     "metadata": {},
     "output_type": "display_data"
    }
   ],
   "source": [
    "display(df_train.isnull().sum())\n",
    "print('-' * 30)\n",
    "display(df_test.isnull().sum())"
   ]
  },
  {
   "cell_type": "code",
   "execution_count": 925,
   "metadata": {
    "scrolled": true
   },
   "outputs": [
    {
     "data": {
      "text/html": [
       "<div>\n",
       "<style scoped>\n",
       "    .dataframe tbody tr th:only-of-type {\n",
       "        vertical-align: middle;\n",
       "    }\n",
       "\n",
       "    .dataframe tbody tr th {\n",
       "        vertical-align: top;\n",
       "    }\n",
       "\n",
       "    .dataframe thead th {\n",
       "        text-align: right;\n",
       "    }\n",
       "</style>\n",
       "<table border=\"1\" class=\"dataframe\">\n",
       "  <thead>\n",
       "    <tr style=\"text-align: right;\">\n",
       "      <th></th>\n",
       "      <th>PassengerId</th>\n",
       "      <th>Pclass</th>\n",
       "      <th>Name</th>\n",
       "      <th>Sex</th>\n",
       "      <th>Age</th>\n",
       "      <th>SibSp</th>\n",
       "      <th>Parch</th>\n",
       "      <th>Ticket</th>\n",
       "      <th>Fare</th>\n",
       "      <th>Cabin</th>\n",
       "      <th>Embarked</th>\n",
       "    </tr>\n",
       "  </thead>\n",
       "  <tbody>\n",
       "    <tr>\n",
       "      <th>152</th>\n",
       "      <td>1044</td>\n",
       "      <td>3</td>\n",
       "      <td>Storey, Mr. Thomas</td>\n",
       "      <td>male</td>\n",
       "      <td>60.5</td>\n",
       "      <td>0</td>\n",
       "      <td>0</td>\n",
       "      <td>3701</td>\n",
       "      <td>NaN</td>\n",
       "      <td>NaN</td>\n",
       "      <td>S</td>\n",
       "    </tr>\n",
       "  </tbody>\n",
       "</table>\n",
       "</div>"
      ],
      "text/plain": [
       "     PassengerId  Pclass                Name   Sex   Age  SibSp  Parch Ticket  \\\n",
       "152         1044       3  Storey, Mr. Thomas  male  60.5      0      0   3701   \n",
       "\n",
       "     Fare Cabin Embarked  \n",
       "152   NaN   NaN        S  "
      ]
     },
     "metadata": {},
     "output_type": "display_data"
    }
   ],
   "source": [
    "display(df_test.loc[df_test['Fare'].isnull()])\n",
    "\n",
    "df_test['Fare'].fillna(df_train.loc[df_train['Pclass'] == 3]['Fare'].mode()[0], inplace = True)"
   ]
  },
  {
   "cell_type": "code",
   "execution_count": 926,
   "metadata": {
    "scrolled": false
   },
   "outputs": [],
   "source": [
    "def process_cabin(df):\n",
    "    df.loc[df['Cabin'].isnull() == 0, 'Cabin'] = 1\n",
    "    df['Cabin'] = df['Cabin'].fillna(0)\n",
    "    df['Cabin'] = df['Cabin'].astype(int)\n",
    "\n",
    "process_cabin(df_train)\n",
    "process_cabin(df_test)"
   ]
  },
  {
   "cell_type": "code",
   "execution_count": 927,
   "metadata": {},
   "outputs": [
    {
     "data": {
      "text/plain": [
       "<matplotlib.axes._subplots.AxesSubplot at 0x1a2e0eac50>"
      ]
     },
     "execution_count": 927,
     "metadata": {},
     "output_type": "execute_result"
    },
    {
     "data": {
      "image/png": "[encoded data removed]",
      "text/plain": [
       "<Figure size 432x288 with 2 Axes>"
      ]
     },
     "metadata": {
      "needs_background": "light"
     },
     "output_type": "display_data"
    }
   ],
   "source": [
    "sns.heatmap(df_train.corr(), linewidths = 0.1, vmax = 1.0, square = True, linecolor = 'white', annot = True)"
   ]
  },
  {
   "cell_type": "code",
   "execution_count": 928,
   "metadata": {},
   "outputs": [],
   "source": [
    "from sklearn.experimental import enable_iterative_imputer # noqa\n",
    "from sklearn.impute import IterativeImputer\n",
    "\n",
    "imputer = IterativeImputer()\n",
    "df_train['Age'] = imputer.fit_transform(df_train[['Age', 'Pclass', 'SibSp', 'Parch']])[:,0]\n",
    "df_test['Age'] = imputer.fit_transform(df_test[['Age', 'Pclass', 'SibSp', 'Parch']])[:,0]"
   ]
  },
  {
   "cell_type": "code",
   "execution_count": 929,
   "metadata": {},
   "outputs": [
    {
     "data": {
      "text/html": [
       "<div>\n",
       "<style scoped>\n",
       "    .dataframe tbody tr th:only-of-type {\n",
       "        vertical-align: middle;\n",
       "    }\n",
       "\n",
       "    .dataframe tbody tr th {\n",
       "        vertical-align: top;\n",
       "    }\n",
       "\n",
       "    .dataframe thead th {\n",
       "        text-align: right;\n",
       "    }\n",
       "</style>\n",
       "<table border=\"1\" class=\"dataframe\">\n",
       "  <thead>\n",
       "    <tr style=\"text-align: right;\">\n",
       "      <th></th>\n",
       "      <th>PassengerId</th>\n",
       "      <th>Survived</th>\n",
       "      <th>Pclass</th>\n",
       "      <th>Name</th>\n",
       "      <th>Sex</th>\n",
       "      <th>Age</th>\n",
       "      <th>SibSp</th>\n",
       "      <th>Parch</th>\n",
       "      <th>Ticket</th>\n",
       "      <th>Fare</th>\n",
       "      <th>Cabin</th>\n",
       "      <th>Embarked</th>\n",
       "    </tr>\n",
       "  </thead>\n",
       "  <tbody>\n",
       "    <tr>\n",
       "      <th>61</th>\n",
       "      <td>62</td>\n",
       "      <td>1</td>\n",
       "      <td>1</td>\n",
       "      <td>Icard, Miss. Amelie</td>\n",
       "      <td>female</td>\n",
       "      <td>38.0</td>\n",
       "      <td>0</td>\n",
       "      <td>0</td>\n",
       "      <td>113572</td>\n",
       "      <td>80.0</td>\n",
       "      <td>1</td>\n",
       "      <td>NaN</td>\n",
       "    </tr>\n",
       "    <tr>\n",
       "      <th>829</th>\n",
       "      <td>830</td>\n",
       "      <td>1</td>\n",
       "      <td>1</td>\n",
       "      <td>Stone, Mrs. George Nelson (Martha Evelyn)</td>\n",
       "      <td>female</td>\n",
       "      <td>62.0</td>\n",
       "      <td>0</td>\n",
       "      <td>0</td>\n",
       "      <td>113572</td>\n",
       "      <td>80.0</td>\n",
       "      <td>1</td>\n",
       "      <td>NaN</td>\n",
       "    </tr>\n",
       "  </tbody>\n",
       "</table>\n",
       "</div>"
      ],
      "text/plain": [
       "     PassengerId  Survived  Pclass                                       Name  \\\n",
       "61            62         1       1                        Icard, Miss. Amelie   \n",
       "829          830         1       1  Stone, Mrs. George Nelson (Martha Evelyn)   \n",
       "\n",
       "        Sex   Age  SibSp  Parch  Ticket  Fare  Cabin Embarked  \n",
       "61   female  38.0      0      0  113572  80.0      1      NaN  \n",
       "829  female  62.0      0      0  113572  80.0      1      NaN  "
      ]
     },
     "metadata": {},
     "output_type": "display_data"
    },
    {
     "data": {
      "text/html": [
       "<div>\n",
       "<style scoped>\n",
       "    .dataframe tbody tr th:only-of-type {\n",
       "        vertical-align: middle;\n",
       "    }\n",
       "\n",
       "    .dataframe tbody tr th {\n",
       "        vertical-align: top;\n",
       "    }\n",
       "\n",
       "    .dataframe thead th {\n",
       "        text-align: right;\n",
       "    }\n",
       "</style>\n",
       "<table border=\"1\" class=\"dataframe\">\n",
       "  <thead>\n",
       "    <tr style=\"text-align: right;\">\n",
       "      <th></th>\n",
       "      <th>Embarked</th>\n",
       "      <th>Fare</th>\n",
       "    </tr>\n",
       "  </thead>\n",
       "  <tbody>\n",
       "    <tr>\n",
       "      <th>0</th>\n",
       "      <td>C</td>\n",
       "      <td>59.954144</td>\n",
       "    </tr>\n",
       "    <tr>\n",
       "      <th>1</th>\n",
       "      <td>Q</td>\n",
       "      <td>13.276030</td>\n",
       "    </tr>\n",
       "    <tr>\n",
       "      <th>2</th>\n",
       "      <td>S</td>\n",
       "      <td>27.079812</td>\n",
       "    </tr>\n",
       "  </tbody>\n",
       "</table>\n",
       "</div>"
      ],
      "text/plain": [
       "  Embarked       Fare\n",
       "0        C  59.954144\n",
       "1        Q  13.276030\n",
       "2        S  27.079812"
      ]
     },
     "metadata": {},
     "output_type": "display_data"
    }
   ],
   "source": [
    "display(df_train.loc[df_train['Embarked'].isnull()])\n",
    "\n",
    "display(df_train[['Embarked', 'Fare']].groupby(['Embarked'], as_index = False).mean())\n",
    "df_train.at[61,'Embarked'] = 'S'\n",
    "df_train.at[829,'Embarked'] = 'S'"
   ]
  },
  {
   "cell_type": "code",
   "execution_count": 930,
   "metadata": {
    "scrolled": true
   },
   "outputs": [
    {
     "data": {
      "text/plain": [
       "PassengerId    0\n",
       "Survived       0\n",
       "Pclass         0\n",
       "Name           0\n",
       "Sex            0\n",
       "Age            0\n",
       "SibSp          0\n",
       "Parch          0\n",
       "Ticket         0\n",
       "Fare           0\n",
       "Cabin          0\n",
       "Embarked       0\n",
       "dtype: int64"
      ]
     },
     "metadata": {},
     "output_type": "display_data"
    },
    {
     "name": "stdout",
     "output_type": "stream",
     "text": [
      "------------------------------\n"
     ]
    },
    {
     "data": {
      "text/plain": [
       "PassengerId    0\n",
       "Pclass         0\n",
       "Name           0\n",
       "Sex            0\n",
       "Age            0\n",
       "SibSp          0\n",
       "Parch          0\n",
       "Ticket         0\n",
       "Fare           0\n",
       "Cabin          0\n",
       "Embarked       0\n",
       "dtype: int64"
      ]
     },
     "metadata": {},
     "output_type": "display_data"
    }
   ],
   "source": [
    "display(df_train.isnull().sum())\n",
    "print('-' * 30)\n",
    "display(df_test.isnull().sum())"
   ]
  },
  {
   "cell_type": "code",
   "execution_count": 931,
   "metadata": {},
   "outputs": [
    {
     "data": {
      "text/html": [
       "<div>\n",
       "<style scoped>\n",
       "    .dataframe tbody tr th:only-of-type {\n",
       "        vertical-align: middle;\n",
       "    }\n",
       "\n",
       "    .dataframe tbody tr th {\n",
       "        vertical-align: top;\n",
       "    }\n",
       "\n",
       "    .dataframe thead th {\n",
       "        text-align: right;\n",
       "    }\n",
       "</style>\n",
       "<table border=\"1\" class=\"dataframe\">\n",
       "  <thead>\n",
       "    <tr style=\"text-align: right;\">\n",
       "      <th></th>\n",
       "      <th>Title</th>\n",
       "      <th>Survived</th>\n",
       "    </tr>\n",
       "  </thead>\n",
       "  <tbody>\n",
       "    <tr>\n",
       "      <th>0</th>\n",
       "      <td>0</td>\n",
       "      <td>0.156673</td>\n",
       "    </tr>\n",
       "    <tr>\n",
       "      <th>1</th>\n",
       "      <td>1</td>\n",
       "      <td>0.347826</td>\n",
       "    </tr>\n",
       "    <tr>\n",
       "      <th>2</th>\n",
       "      <td>2</td>\n",
       "      <td>0.575000</td>\n",
       "    </tr>\n",
       "    <tr>\n",
       "      <th>3</th>\n",
       "      <td>3</td>\n",
       "      <td>0.702703</td>\n",
       "    </tr>\n",
       "    <tr>\n",
       "      <th>4</th>\n",
       "      <td>4</td>\n",
       "      <td>0.793651</td>\n",
       "    </tr>\n",
       "  </tbody>\n",
       "</table>\n",
       "</div>"
      ],
      "text/plain": [
       "   Title  Survived\n",
       "0      0  0.156673\n",
       "1      1  0.347826\n",
       "2      2  0.575000\n",
       "3      3  0.702703\n",
       "4      4  0.793651"
      ]
     },
     "metadata": {},
     "output_type": "display_data"
    }
   ],
   "source": [
    "def process_name(df):\n",
    "    df['Title'] = df['Name'].str.extract(' ([A-Za-z]+)\\.', expand = False)\n",
    "    df['Title'].replace(['Lady', 'Countess','Capt', 'Col', 'Don', 'Dr', 'Major', \n",
    "                           'Rev', 'Sir', 'Jonkheer', 'Dona'], 'Others', inplace = True)\n",
    "    df['Title'].replace('Mlle', 'Miss', inplace = True)\n",
    "    df['Title'].replace('Mme', 'Mrs', inplace = True)\n",
    "    df['Title'].replace('Ms', 'Miss', inplace = True)\n",
    "    df['Title'] = df['Title'].map({'Mr': 0, 'Others': 1, 'Master': 2, 'Miss': 3, 'Mrs': 4})\n",
    "\n",
    "process_name(df_train)\n",
    "process_name(df_test)\n",
    "\n",
    "display(df_train[['Title', 'Survived']].groupby(['Title'], as_index = False).mean())"
   ]
  },
  {
   "cell_type": "code",
   "execution_count": 932,
   "metadata": {},
   "outputs": [],
   "source": [
    "def process_embarked(df):\n",
    "    dummies = pd.get_dummies(df['Embarked'], prefix = 'Embarked')\n",
    "    df = df.drop('Embarked', axis = 1)\n",
    "    return df.join(dummies)\n",
    "\n",
    "df_train = process_embarked(df_train)\n",
    "df_test = process_embarked(df_test)"
   ]
  },
  {
   "cell_type": "code",
   "execution_count": 933,
   "metadata": {},
   "outputs": [],
   "source": [
    "def process_sex(df):\n",
    "    dummies = pd.get_dummies(df['Sex'], prefix = 'Sex')\n",
    "    df = df.drop('Sex', axis = 1)\n",
    "    return df.join(dummies)\n",
    "    \n",
    "df_train = process_sex(df_train)\n",
    "df_test = process_sex(df_test)"
   ]
  },
  {
   "cell_type": "code",
   "execution_count": 934,
   "metadata": {},
   "outputs": [
    {
     "data": {
      "text/plain": [
       "<seaborn.axisgrid.FacetGrid at 0x1a2e8326d8>"
      ]
     },
     "execution_count": 934,
     "metadata": {},
     "output_type": "execute_result"
    },
    {
     "data": {
      "image/png": "[encoded data removed]",
      "text/plain": [
       "<Figure size 216x360 with 1 Axes>"
      ]
     },
     "metadata": {
      "needs_background": "light"
     },
     "output_type": "display_data"
    }
   ],
   "source": [
    "from sklearn.preprocessing import LabelEncoder\n",
    "label = LabelEncoder()\n",
    "\n",
    "def process_fare(df):\n",
    "    df['Fare'] = pd.qcut(df['Fare'], 4)\n",
    "    df['Fare'] = label.fit_transform(df['Fare'])\n",
    "    \n",
    "process_fare(df_train)\n",
    "process_fare(df_test)\n",
    "sns.catplot(x='Fare', y='Survived', data=df_train, saturation=.5, kind='bar', ci=None, aspect=.6)"
   ]
  },
  {
   "cell_type": "code",
   "execution_count": 935,
   "metadata": {},
   "outputs": [
    {
     "data": {
      "text/plain": [
       "<seaborn.axisgrid.FacetGrid at 0x1a2e8d7be0>"
      ]
     },
     "execution_count": 935,
     "metadata": {},
     "output_type": "execute_result"
    },
    {
     "data": {
      "image/png": "[encoded data removed]",
      "text/plain": [
       "<Figure size 216x360 with 1 Axes>"
      ]
     },
     "metadata": {
      "needs_background": "light"
     },
     "output_type": "display_data"
    }
   ],
   "source": [
    "def process_age(df):\n",
    "    df['Age'] = pd.cut(df['Age'].astype(int), 6)\n",
    "    df['Age'] = label.fit_transform(df['Age'])\n",
    "    df['Age'] = df['Age'].map({0: 0, 1: 1, 2:1, 3:1, 4:1, 5:2})\n",
    "\n",
    "process_age(df_train)\n",
    "process_age(df_test)\n",
    "sns.catplot(x='Age', y='Survived', data=df_train, saturation=.5, kind='bar', ci=None, aspect=.6)"
   ]
  },
  {
   "cell_type": "code",
   "execution_count": 936,
   "metadata": {},
   "outputs": [],
   "source": [
    "def process_alone(df):\n",
    "    df['IsAlone'] = 0\n",
    "    df.loc[df['SibSp'] + df['Parch'] == 0, 'IsAlone'] = 1\n",
    "    \n",
    "process_alone(df_train)\n",
    "process_alone(df_test)"
   ]
  },
  {
   "cell_type": "code",
   "execution_count": 937,
   "metadata": {},
   "outputs": [
    {
     "data": {
      "text/plain": [
       "<seaborn.axisgrid.FacetGrid at 0x1a2e9ef748>"
      ]
     },
     "execution_count": 937,
     "metadata": {},
     "output_type": "execute_result"
    },
    {
     "data": {
      "image/png": "[encoded data removed]",
      "text/plain": [
       "<Figure size 216x360 with 1 Axes>"
      ]
     },
     "metadata": {
      "needs_background": "light"
     },
     "output_type": "display_data"
    }
   ],
   "source": [
    "def process_familysize(df):\n",
    "    df['FamilySize'] = df['SibSp'] + df['Parch'] + 1\n",
    "    df['FamilySize'] = df['FamilySize'].map({1:2 , 2:3, 3:3, 4:3, 5:1, 6:1, 7:2, 8:0, 11:0})\n",
    "    \n",
    "process_familysize(df_train)\n",
    "process_familysize(df_test)\n",
    "sns.catplot(x='FamilySize', y='Survived', data=df_train, saturation=.5, kind='bar', ci=None, aspect=.6)"
   ]
  },
  {
   "cell_type": "code",
   "execution_count": 938,
   "metadata": {
    "scrolled": true
   },
   "outputs": [
    {
     "data": {
      "text/plain": [
       "PassengerId    0\n",
       "Survived       0\n",
       "Pclass         0\n",
       "Name           0\n",
       "Age            0\n",
       "SibSp          0\n",
       "Parch          0\n",
       "Ticket         0\n",
       "Fare           0\n",
       "Cabin          0\n",
       "Title          0\n",
       "Embarked_C     0\n",
       "Embarked_Q     0\n",
       "Embarked_S     0\n",
       "Sex_female     0\n",
       "Sex_male       0\n",
       "IsAlone        0\n",
       "FamilySize     0\n",
       "dtype: int64"
      ]
     },
     "metadata": {},
     "output_type": "display_data"
    },
    {
     "data": {
      "text/plain": [
       "PassengerId    0\n",
       "Pclass         0\n",
       "Name           0\n",
       "Age            0\n",
       "SibSp          0\n",
       "Parch          0\n",
       "Ticket         0\n",
       "Fare           0\n",
       "Cabin          0\n",
       "Title          0\n",
       "Embarked_C     0\n",
       "Embarked_Q     0\n",
       "Embarked_S     0\n",
       "Sex_female     0\n",
       "Sex_male       0\n",
       "IsAlone        0\n",
       "FamilySize     0\n",
       "dtype: int64"
      ]
     },
     "metadata": {},
     "output_type": "display_data"
    }
   ],
   "source": [
    "display(df_train.isnull().sum())\n",
    "display(df_test.isnull().sum())"
   ]
  },
  {
   "cell_type": "code",
   "execution_count": 939,
   "metadata": {},
   "outputs": [
    {
     "name": "stdout",
     "output_type": "stream",
     "text": [
      "<class 'pandas.core.frame.DataFrame'>\n",
      "RangeIndex: 891 entries, 0 to 890\n",
      "Data columns (total 8 columns):\n",
      "Pclass        891 non-null int64\n",
      "Age           891 non-null int64\n",
      "Fare          891 non-null int64\n",
      "Title         891 non-null int64\n",
      "Sex_female    891 non-null uint8\n",
      "Sex_male      891 non-null uint8\n",
      "IsAlone       891 non-null int64\n",
      "FamilySize    891 non-null int64\n",
      "dtypes: int64(6), uint8(2)\n",
      "memory usage: 43.6 KB\n"
     ]
    },
    {
     "data": {
      "text/plain": [
       "None"
      ]
     },
     "metadata": {},
     "output_type": "display_data"
    }
   ],
   "source": [
    "X_train = df_train.drop(['PassengerId', 'Survived', 'Name', 'Ticket', 'SibSp', 'Parch', 'Embarked_C', 'Embarked_Q', 'Embarked_S', 'Cabin'], axis = 1)\n",
    "y_train = df_train['Survived']\n",
    "X_test = df_test.drop(['PassengerId', 'Name', 'Ticket', 'SibSp', 'Parch', 'Embarked_C', 'Embarked_Q', 'Embarked_S', 'Cabin'], axis = 1)\n",
    "\n",
    "display(X_train.info())"
   ]
  },
  {
   "cell_type": "code",
   "execution_count": 940,
   "metadata": {},
   "outputs": [
    {
     "data": {
      "text/plain": [
       "<matplotlib.axes._subplots.AxesSubplot at 0x1a2eb91b00>"
      ]
     },
     "execution_count": 940,
     "metadata": {},
     "output_type": "execute_result"
    },
    {
     "data": {
      "image/png": "[encoded data removed]",
      "text/plain": [
       "<Figure size 432x288 with 2 Axes>"
      ]
     },
     "metadata": {
      "needs_background": "light"
     },
     "output_type": "display_data"
    }
   ],
   "source": [
    "sns.heatmap(X_train.join(df_train['Survived']).corr(), linewidths = 0.1, vmax = 1.0, square = True, linecolor = 'white', annot = True)"
   ]
  },
  {
   "cell_type": "code",
   "execution_count": 941,
   "metadata": {},
   "outputs": [
    {
     "data": {
      "text/html": [
       "<div>\n",
       "<style scoped>\n",
       "    .dataframe tbody tr th:only-of-type {\n",
       "        vertical-align: middle;\n",
       "    }\n",
       "\n",
       "    .dataframe tbody tr th {\n",
       "        vertical-align: top;\n",
       "    }\n",
       "\n",
       "    .dataframe thead th {\n",
       "        text-align: right;\n",
       "    }\n",
       "</style>\n",
       "<table border=\"1\" class=\"dataframe\">\n",
       "  <thead>\n",
       "    <tr style=\"text-align: right;\">\n",
       "      <th></th>\n",
       "      <th>0</th>\n",
       "      <th>1</th>\n",
       "      <th>2</th>\n",
       "      <th>3</th>\n",
       "      <th>4</th>\n",
       "      <th>5</th>\n",
       "      <th>6</th>\n",
       "      <th>7</th>\n",
       "    </tr>\n",
       "  </thead>\n",
       "  <tbody>\n",
       "    <tr>\n",
       "      <th>0</th>\n",
       "      <td>0.827377</td>\n",
       "      <td>0.21881</td>\n",
       "      <td>-1.339737</td>\n",
       "      <td>-0.803277</td>\n",
       "      <td>-0.737695</td>\n",
       "      <td>0.737695</td>\n",
       "      <td>-1.231645</td>\n",
       "      <td>1.235647</td>\n",
       "    </tr>\n",
       "    <tr>\n",
       "      <th>1</th>\n",
       "      <td>-1.566107</td>\n",
       "      <td>0.21881</td>\n",
       "      <td>1.344758</td>\n",
       "      <td>1.660474</td>\n",
       "      <td>1.355574</td>\n",
       "      <td>-1.355574</td>\n",
       "      <td>-1.231645</td>\n",
       "      <td>1.235647</td>\n",
       "    </tr>\n",
       "    <tr>\n",
       "      <th>2</th>\n",
       "      <td>0.827377</td>\n",
       "      <td>0.21881</td>\n",
       "      <td>-0.444905</td>\n",
       "      <td>1.044536</td>\n",
       "      <td>1.355574</td>\n",
       "      <td>-1.355574</td>\n",
       "      <td>0.811922</td>\n",
       "      <td>-0.427437</td>\n",
       "    </tr>\n",
       "    <tr>\n",
       "      <th>3</th>\n",
       "      <td>-1.566107</td>\n",
       "      <td>0.21881</td>\n",
       "      <td>1.344758</td>\n",
       "      <td>1.660474</td>\n",
       "      <td>1.355574</td>\n",
       "      <td>-1.355574</td>\n",
       "      <td>-1.231645</td>\n",
       "      <td>1.235647</td>\n",
       "    </tr>\n",
       "    <tr>\n",
       "      <th>4</th>\n",
       "      <td>0.827377</td>\n",
       "      <td>0.21881</td>\n",
       "      <td>-0.444905</td>\n",
       "      <td>-0.803277</td>\n",
       "      <td>-0.737695</td>\n",
       "      <td>0.737695</td>\n",
       "      <td>0.811922</td>\n",
       "      <td>-0.427437</td>\n",
       "    </tr>\n",
       "  </tbody>\n",
       "</table>\n",
       "</div>"
      ],
      "text/plain": [
       "          0        1         2         3         4         5         6  \\\n",
       "0  0.827377  0.21881 -1.339737 -0.803277 -0.737695  0.737695 -1.231645   \n",
       "1 -1.566107  0.21881  1.344758  1.660474  1.355574 -1.355574 -1.231645   \n",
       "2  0.827377  0.21881 -0.444905  1.044536  1.355574 -1.355574  0.811922   \n",
       "3 -1.566107  0.21881  1.344758  1.660474  1.355574 -1.355574 -1.231645   \n",
       "4  0.827377  0.21881 -0.444905 -0.803277 -0.737695  0.737695  0.811922   \n",
       "\n",
       "          7  \n",
       "0  1.235647  \n",
       "1  1.235647  \n",
       "2 -0.427437  \n",
       "3  1.235647  \n",
       "4 -0.427437  "
      ]
     },
     "execution_count": 941,
     "metadata": {},
     "output_type": "execute_result"
    }
   ],
   "source": [
    "from sklearn.preprocessing import StandardScaler\n",
    "\n",
    "scaler = StandardScaler()\n",
    "scaler.fit(X_train)\n",
    "X_train = pd.DataFrame(scaler.transform(X_train))\n",
    "X_test = pd.DataFrame(scaler.transform(X_test))\n",
    "\n",
    "X_train.head()"
   ]
  },
  {
   "cell_type": "code",
   "execution_count": 942,
   "metadata": {},
   "outputs": [
    {
     "data": {
      "text/plain": [
       "<matplotlib.axes._subplots.AxesSubplot at 0x1a2ece7550>"
      ]
     },
     "execution_count": 942,
     "metadata": {},
     "output_type": "execute_result"
    },
    {
     "data": {
      "image/png": "[encoded data removed]",
      "text/plain": [
       "<Figure size 432x288 with 2 Axes>"
      ]
     },
     "metadata": {
      "needs_background": "light"
     },
     "output_type": "display_data"
    }
   ],
   "source": [
    "sns.heatmap(X_train.join(df_train['Survived']).corr(), linewidths = 0.1, vmax = 1.0, square = True, linecolor = 'white', annot = True)"
   ]
  },
  {
   "cell_type": "code",
   "execution_count": 943,
   "metadata": {},
   "outputs": [],
   "source": [
    "from sklearn.tree import DecisionTreeClassifier\n",
    "from sklearn.ensemble import RandomForestClassifier\n",
    "from sklearn.ensemble import GradientBoostingClassifier\n",
    "from sklearn.ensemble import ExtraTreesClassifier\n",
    "from sklearn.ensemble import BaggingClassifier\n",
    "from sklearn.model_selection import GridSearchCV, RandomizedSearchCV, cross_val_score\n",
    "from sklearn.svm import SVC\n",
    "from xgboost import XGBClassifier\n",
    "\n",
    "# params = {\n",
    "#     \"colsample_bytree\": [0.01],\n",
    "#     \"gamma\": [0.0001],\n",
    "#     \"max_depth\": [2], # default 3\n",
    "#     \"n_estimators\": [200, 250, 300], # default 100\n",
    "#     \"subsample\": [1.0]\n",
    "# }\n",
    "\n",
    "# search = GridSearchCV(XGBClassifier(objective = \"binary:logistic\", random_state = 42), \n",
    "#                                    params, cv = 5)\n",
    "\n",
    "# params = {\n",
    "#     'n_estimators': [130, 150, 170],\n",
    "#     'criterion': ['gini', 'entropy'],\n",
    "#     'min_samples_split': [5, 6, 7, 8, 10]\n",
    "# }\n",
    "\n",
    "# search = GridSearchCV(RandomForestClassifier(random_state = 42), \n",
    "#                                    params, cv = 5)\n",
    "\n",
    "# params = {\n",
    "#     'C': [1, 0.5, 1.5],\n",
    "#     'decision_function_shape': ['ovo', 'ovr'],\n",
    "#     'gamma': [0.01, 0.02, 0.04]\n",
    "# }\n",
    "\n",
    "# search = GridSearchCV(SVC(random_state = 42), \n",
    "#                                    params, cv = 5)\n",
    "\n",
    "# params = {\n",
    "#     'n_estimators': [2, 3, 4, 5, 6, 7, 8], \n",
    "#     'criterion': ['gini', 'entropy'], \n",
    "#     'max_depth': [4, 5, 6]\n",
    "# }\n",
    "\n",
    "# search = GridSearchCV(ExtraTreesClassifier(random_state = 42), \n",
    "#                                    params, cv = 5)\n",
    "\n",
    "# params = {\n",
    "#     'criterion': ['gini', 'entropy'], \n",
    "#     'max_depth': [2, 3, 4, 5, 6, 7, 8, 9, 10]\n",
    "# }\n",
    "\n",
    "# search = GridSearchCV(DecisionTreeClassifier(random_state = 42), \n",
    "#                                    params, cv = 5)\n",
    "\n",
    "params = {\n",
    "    'max_samples': [60, 70, 80],\n",
    "    'n_estimators': [210, 220, 230]\n",
    "}\n",
    "\n",
    "search = GridSearchCV(BaggingClassifier(random_state = 42), \n",
    "                                   params, cv = 5)\n",
    "\n",
    "search.fit(X_train, y_train)\n",
    "clf = search.best_estimator_"
   ]
  },
  {
   "cell_type": "code",
   "execution_count": 944,
   "metadata": {
    "scrolled": true
   },
   "outputs": [
    {
     "name": "stdout",
     "output_type": "stream",
     "text": [
      "{'max_samples': 60, 'n_estimators': 210}\n",
      "0.8271604938271605\n"
     ]
    }
   ],
   "source": [
    "print(search.best_params_)\n",
    "print(search.best_score_)"
   ]
  },
  {
   "cell_type": "markdown",
   "metadata": {},
   "source": [
    "# Classifier Performance\n",
    "\n",
    "### Data Format Used\n",
    "| Attribute | Data Type |\n",
    "| --- | --- |\n",
    "| Pclass | int64 |\n",
    "| Age | int64 |\n",
    "| SibSp | int64 |\n",
    "| Parch | int64 |\n",
    "| Fare | int64 |\n",
    "| Cabin | int64 |\n",
    "| Title | int64 |\n",
    "| Embarked_C | uint8 |\n",
    "| Embarked_Q | uint8 |\n",
    "| Embarked_S | uint8 |\n",
    "| Sex_female | uint8 | \n",
    "| Sex_male | uint8 |\n",
    "| IsAlone | int64 |\n",
    "| FamilySize | int64 |\n",
    "\n",
    "| Classifier | Best Hyperparameters | Accuracy |\n",
    "| --- | --- | --- |\n",
    "| XGBClassifier | {'colsample_bytree': 0.15, 'gamma': 0.015, 'max_depth': 4, 'n_estimators': 110, 'subsample': 1.0} | 0.8282828282828283 |\n",
    "| RandomForestClassifier | {'criterion': 'gini', 'min_samples_split': 4, 'n_estimators': 25} | 0.8226711560044894 |\n",
    "| SVC | {'C': 1.15, 'decision_function_shape': 'ovo', 'gamma': 0.11} | 0.8327721661054994 |\n",
    "| ExtraTreesClassifier | {'criterion': 'entropy', 'max_depth': 5, 'n_estimators': 30} | 0.8305274971941639 |\n",
    "| DecisionTreesClassifier | {'criterion': 'gini', 'max_depth': 3} | 0.8338945005611672 |\n",
    "| BaggingClassifier | {'max_samples': 110, 'n_estimators': 131} | 0.8372615039281706 |"
   ]
  },
  {
   "cell_type": "code",
   "execution_count": 945,
   "metadata": {
    "scrolled": true
   },
   "outputs": [
    {
     "data": {
      "text/plain": [
       "0.835016835016835"
      ]
     },
     "execution_count": 945,
     "metadata": {},
     "output_type": "execute_result"
    }
   ],
   "source": [
    "from sklearn.ensemble import VotingClassifier\n",
    "\n",
    "xgb = XGBClassifier(colsample_bytree = 0.15, gamma = 0.015, max_depth = 4, \n",
    "                              n_estimators = 110, subsample = 1.0, random_state = 42)\n",
    "\n",
    "rf = RandomForestClassifier(criterion = 'gini', min_samples_split = 4, \n",
    "                                      n_estimators = 25, random_state = 42)\n",
    "\n",
    "svc = SVC(C = 1.15, decision_function_shape = 'ovo', gamma = 0.11, random_state = 42)\n",
    "\n",
    "et = ExtraTreesClassifier(criterion = 'entropy', max_depth = 5, n_estimators = 30, random_state = 42)\n",
    "\n",
    "dt = DecisionTreeClassifier(criterion = 'gini', max_depth = 3, random_state = 42)\n",
    "\n",
    "bag = BaggingClassifier(max_samples = 110, n_estimators = 131, random_state = 42)\n",
    "\n",
    "clf = VotingClassifier(estimators = [('xgb', xgb), ('rf', rf), ('svc', svc), \n",
    "                                            ('et', et), ('dt', dt), ('bag', bag)], voting = 'hard')\n",
    "\n",
    "clf.fit(X_train, y_train)\n",
    "clf.score(X_train, y_train)"
   ]
  },
  {
   "cell_type": "markdown",
   "metadata": {},
   "source": [
    "# Classifier Performance\n",
    "\n",
    "### Data Format Used\n",
    "| Attribute | Data Type |\n",
    "| --- | --- |\n",
    "| Pclass | int64 |\n",
    "| Age | float64 |\n",
    "| SibSp | int64 |\n",
    "| Parch | int64 |\n",
    "| Fare | float64 |\n",
    "| Cabin | int64 |\n",
    "| Title | int64 |\n",
    "| Embarked_C | uint8 |\n",
    "| Embarked_Q | uint8 |\n",
    "| Embarked_S | uint8 |\n",
    "| Sex_female | uint8 | \n",
    "| Sex_male | uint8 |\n",
    "| IsAlone | int64 |\n",
    "| FamilySize | int64 |\n",
    "\n",
    "| Classifier | Best Hyperparameters | Accuracy |\n",
    "| --- | --- | --- |\n",
    "| XGBClassifier | {'colsample_bytree': 0.22, 'gamma': 0.02, 'max_depth': 6, 'n_estimators': 250, 'subsample': 1.0} | 0.8473625140291807 |\n",
    "| RandomForestClassifier | {'criterion': 'gini', 'min_samples_split': 5, 'n_estimators': 175} | 0.8316498316498316 |\n",
    "| SVC | {'C': 2, 'decision_function_shape': 'ovo', 'gamma': 0.07} | 0.7598204264870931 |\n",
    "| ExtraTreesClassifier | {'criterion': 'gini', 'max_depth': 6, 'n_estimators': 125} | 0.8327721661054994 |\n",
    "| DecisionTreesClassifier | {'criterion': 'entropy', 'max_depth': 3} | 0.8294051627384961 |\n",
    "| BaggingClassifier | {'max_samples': 100, 'n_estimators': 150} | 0.835016835016835 |"
   ]
  },
  {
   "cell_type": "code",
   "execution_count": 946,
   "metadata": {},
   "outputs": [
    {
     "data": {
      "text/plain": [
       "0.8417508417508418"
      ]
     },
     "execution_count": 946,
     "metadata": {},
     "output_type": "execute_result"
    }
   ],
   "source": [
    "xgb = XGBClassifier(colsample_bytree = 0.22, gamma = 0.02, max_depth = 6, \n",
    "                              n_estimators = 250, subsample = 1.0, random_state = 42)\n",
    "\n",
    "rf = RandomForestClassifier(criterion = 'gini', min_samples_split = 5, \n",
    "                                      n_estimators = 175, random_state = 42)\n",
    "\n",
    "svc = SVC(C = 2, decision_function_shape = 'ovo', gamma = 0.07, random_state = 42)\n",
    "\n",
    "et = ExtraTreesClassifier(criterion = 'gini', max_depth = 6, n_estimators = 125, random_state = 42)\n",
    "\n",
    "dt = DecisionTreeClassifier(criterion = 'entropy', max_depth = 3, random_state = 42)\n",
    "\n",
    "bag = BaggingClassifier(max_samples = 100, n_estimators = 150, random_state = 42)\n",
    "\n",
    "clf = VotingClassifier(estimators = [('xgb', xgb), ('rf', rf), ('svc', svc), \n",
    "                                            ('et', et), ('dt', dt), ('bag', bag)], voting = 'hard')\n",
    "\n",
    "clf.fit(X_train, y_train)\n",
    "clf.score(X_train, y_train)"
   ]
  },
  {
   "cell_type": "markdown",
   "metadata": {},
   "source": [
    "# Classifier Performance\n",
    "\n",
    "### Data Format Used\n",
    "| Attribute | Data Type |\n",
    "| --- | --- |\n",
    "| Pclass | int64 |\n",
    "| Age | float64 |\n",
    "| Fare | float64 |\n",
    "| Cabin | int64 |\n",
    "| Title | int64 |\n",
    "| Sex_female | uint8 | \n",
    "| Sex_male | uint8 |\n",
    "| IsAlone | int64 |\n",
    "| FamilySize | int64 |\n",
    "\n",
    "| Classifier | Best Hyperparameters | Accuracy |\n",
    "| --- | --- | --- |\n",
    "| XGBClassifier | {'colsample_bytree': 0.3, 'gamma': 0.0001, 'max_depth': 6, 'n_estimators': 100, 'subsample': 1.0} | 0.8260381593714927 |\n",
    "| RandomForestClassifier | {'criterion': 'entropy', 'min_samples_split': 5, 'n_estimators': 50} | 0.8237934904601572 |\n",
    "| SVC | {'C': 1, 'decision_function_shape': 'ovo', 'gamma': 0.015} | 0.8327721661054994 |\n",
    "| ExtraTreesClassifier | {'criterion': 'entropy', 'max_depth': 5, 'n_estimators': 200} | 0.8305274971941639 |\n",
    "| DecisionTreesClassifier | {'criterion': 'gini', 'max_depth': 3} | 0.8305274971941639 |\n",
    "| BaggingClassifier | {'max_samples': 30, 'n_estimators': 150} | 0.8249158249158249 |"
   ]
  },
  {
   "cell_type": "code",
   "execution_count": 947,
   "metadata": {},
   "outputs": [
    {
     "data": {
      "text/plain": [
       "0.8395061728395061"
      ]
     },
     "execution_count": 947,
     "metadata": {},
     "output_type": "execute_result"
    }
   ],
   "source": [
    "xgb = XGBClassifier(colsample_bytree = 0.3, gamma = 0.0001, max_depth = 6, \n",
    "                              n_estimators = 100, subsample = 1.0, random_state = 42)\n",
    "# {'colsample_bytree': 0.3, 'gamma': 0.0001, 'max_depth': 6, 'n_estimators': 100, 'subsample': 1.0}\n",
    "# 0.8260381593714927\n",
    "\n",
    "rf = RandomForestClassifier(criterion = 'entropy', min_samples_split = 5, \n",
    "                                      n_estimators = 50, random_state = 42)\n",
    "# {'criterion': 'entropy', 'min_samples_split': 5, 'n_estimators': 50}\n",
    "# 0.8237934904601572\n",
    "\n",
    "svc = SVC(C = 1, decision_function_shape = 'ovo', gamma = 0.015, random_state = 42)\n",
    "# {'C': 1, 'decision_function_shape': 'ovo', 'gamma': 0.015}\n",
    "# 0.8327721661054994\n",
    "\n",
    "et = ExtraTreesClassifier(criterion = 'entropy', max_depth = 5, n_estimators = 200, random_state = 42)\n",
    "# {'criterion': 'entropy', 'max_depth': 5, 'n_estimators': 200}\n",
    "# 0.8305274971941639\n",
    "\n",
    "dt = DecisionTreeClassifier(criterion = 'gini', max_depth = 3, random_state = 42)\n",
    "# {'criterion': 'gini', 'max_depth': 3}\n",
    "# 0.8305274971941639\n",
    "\n",
    "bag = BaggingClassifier(max_samples = 30, n_estimators = 150, random_state = 42)\n",
    "# {'max_samples': 30, 'n_estimators': 150}\n",
    "# 0.8249158249158249\n",
    "\n",
    "clf = VotingClassifier(estimators = [('xgb', xgb), ('rf', rf), ('svc', svc), \n",
    "                                            ('et', et), ('dt', dt), ('bag', bag)], voting = 'hard')\n",
    "\n",
    "clf.fit(X_train, y_train)\n",
    "clf.score(X_train, y_train)"
   ]
  },
  {
   "cell_type": "markdown",
   "metadata": {},
   "source": [
    "# Classifier Performance with PCA (7 components)\n",
    "\n",
    "| Classifier | Best Hyperparameters | Accuracy |\n",
    "| --- | --- | --- |\n",
    "| XGBClassifier | {'colsample_bytree': 0.25, 'gamma': 0.0001, 'max_depth': 2, 'n_estimators': 125, 'subsample': 1.0} | 0.8170594837261503 |\n",
    "| RandomForestClassifier | {'criterion': 'gini', 'min_samples_split': 5, 'n_estimators': 250} | 0.8204264870931538 |\n",
    "| SVC | {'C': 0.01, 'decision_function_shape': 'ovo', 'gamma': 0.0001} | 0.6161616161616161 |\n",
    "| ExtraTreesClassifier | {'criterion': 'entropy', 'max_depth': 5, 'n_estimators': 10} | 0.8338945005611672 |\n",
    "| DecisionTreesClassifier | {'criterion': 'entropy', 'max_depth': 6} | 0.8125701459034792 |\n",
    "| BaggingClassifier | {'max_samples': 40, 'n_estimators': 250} | 0.8305274971941639 |"
   ]
  },
  {
   "cell_type": "code",
   "execution_count": 948,
   "metadata": {},
   "outputs": [
    {
     "data": {
      "text/plain": [
       "0.8451178451178452"
      ]
     },
     "execution_count": 948,
     "metadata": {},
     "output_type": "execute_result"
    }
   ],
   "source": [
    "xgb = XGBClassifier(colsample_bytree = 0.25, gamma = 0.0001, max_depth = 2, \n",
    "                              n_estimators = 125, subsample = 1.0, random_state = 42)\n",
    "\n",
    "rf = RandomForestClassifier(criterion = 'gini', min_samples_split = 5, \n",
    "                                      n_estimators = 250, random_state = 42)\n",
    "\n",
    "svc = SVC(C = 0.01, decision_function_shape = 'ovo', gamma = 0.0001, random_state = 42)\n",
    "\n",
    "et = ExtraTreesClassifier(criterion = 'entropy', max_depth = 5, n_estimators = 10, random_state = 42)\n",
    "\n",
    "dt = DecisionTreeClassifier(criterion = 'entropy', max_depth = 6, random_state = 42)\n",
    "\n",
    "bag = BaggingClassifier(max_samples = 40, n_estimators = 250, random_state = 42)\n",
    "\n",
    "clf = VotingClassifier(estimators = [('xgb', xgb), ('rf', rf), ('svc', svc), \n",
    "                                            ('et', et), ('dt', dt), ('bag', bag)], voting = 'hard')\n",
    "\n",
    "clf.fit(X_train, y_train)\n",
    "clf.score(X_train, y_train)"
   ]
  },
  {
   "cell_type": "markdown",
   "metadata": {},
   "source": [
    "# Classifier Performance with PCA (5 components)\n",
    "\n",
    "| Classifier | Best Hyperparameters | Accuracy |\n",
    "| --- | --- | --- |\n",
    "| XGBClassifier | {'colsample_bytree': 0.01, 'gamma': 0.0001, 'max_depth': 5, 'n_estimators': 100, 'subsample': 1.0} | 0.8103254769921436 |\n",
    "| RandomForestClassifier | {'criterion': 'gini', 'min_samples_split': 5, 'n_estimators': 250} | 0.8170594837261503 |\n",
    "| SVC | {'C': 0.01, 'decision_function_shape': 'ovo', 'gamma': 0.0001} | 0.6161616161616161 |\n",
    "| ExtraTreesClassifier | {'criterion': 'gini', 'max_depth': 9, 'n_estimators': 5} | 0.8159371492704826 |\n",
    "| DecisionTreesClassifier | {'criterion': 'gini', 'max_depth': 8} | 0.8092031425364759 |\n",
    "| BaggingClassifier | {'max_samples': 250, 'n_estimators': 200} | 0.8159371492704826 |"
   ]
  },
  {
   "cell_type": "code",
   "execution_count": 949,
   "metadata": {},
   "outputs": [
    {
     "data": {
      "text/plain": [
       "0.8529741863075196"
      ]
     },
     "execution_count": 949,
     "metadata": {},
     "output_type": "execute_result"
    }
   ],
   "source": [
    "xgb = XGBClassifier(colsample_bytree = 0.01, gamma = 0.0001, max_depth = 5, \n",
    "                              n_estimators = 100, subsample = 1.0, random_state = 42)\n",
    "\n",
    "rf = RandomForestClassifier(criterion = 'gini', min_samples_split = 5, \n",
    "                                      n_estimators = 250, random_state = 42)\n",
    "\n",
    "svc = SVC(C = 0.01, decision_function_shape = 'ovo', gamma = 0.0001, random_state = 42)\n",
    "\n",
    "et = ExtraTreesClassifier(criterion = 'gini', max_depth = 9, n_estimators = 5, random_state = 42)\n",
    "\n",
    "dt = DecisionTreeClassifier(criterion = 'gini', max_depth = 8, random_state = 42)\n",
    "\n",
    "bag = BaggingClassifier(max_samples = 250, n_estimators = 200, random_state = 42)\n",
    "\n",
    "clf = VotingClassifier(estimators = [('xgb', xgb), ('rf', rf), ('svc', svc), \n",
    "                                            ('et', et), ('dt', dt), ('bag', bag)], voting = 'hard')\n",
    "\n",
    "clf.fit(X_train, y_train)\n",
    "clf.score(X_train, y_train)"
   ]
  },
  {
   "cell_type": "markdown",
   "metadata": {},
   "source": [
    "# Classifier Performance with Scaler\n",
    "\n",
    "| Classifier | Best Hyperparameters | Accuracy |\n",
    "| --- | --- | --- |\n",
    "| XGBClassifier | {'colsample_bytree': 0.01, 'gamma': 0.0001, 'max_depth': 2, 'n_estimators': 200, 'subsample': 1.0} | 0.8249158249158249 |\n",
    "| RandomForestClassifier | {'criterion': 'entropy', 'min_samples_split': 6, 'n_estimators': 150} | 0.8226711560044894 |\n",
    "| SVC | {'C': 1, 'decision_function_shape': 'ovo', 'gamma': 0.04} | 0.8237934904601572 |\n",
    "| ExtraTreesClassifier | {'criterion': 'gini', 'max_depth': 5, 'n_estimators': 4} | 0.8361391694725028 |\n",
    "| DecisionTreesClassifier | {'criterion': 'gini', 'max_depth': 3} | 0.8282828282828283 |\n",
    "| BaggingClassifier | {'max_samples': 60, 'n_estimators': 210} | 0.8271604938271605 |"
   ]
  },
  {
   "cell_type": "code",
   "execution_count": 950,
   "metadata": {},
   "outputs": [
    {
     "data": {
      "text/plain": [
       "0.8451178451178452"
      ]
     },
     "execution_count": 950,
     "metadata": {},
     "output_type": "execute_result"
    }
   ],
   "source": [
    "xgb = XGBClassifier(colsample_bytree = 0.01, gamma = 0.0001, max_depth = 2, \n",
    "                              n_estimators = 200, subsample = 1.0, random_state = 42)\n",
    "\n",
    "rf = RandomForestClassifier(criterion = 'entropy', min_samples_split = 6, \n",
    "                                      n_estimators = 150, random_state = 42)\n",
    "\n",
    "svc = SVC(C = 1, decision_function_shape = 'ovo', gamma = 0.04, random_state = 42)\n",
    "\n",
    "et = ExtraTreesClassifier(criterion = 'gini', max_depth = 5, n_estimators = 4, random_state = 42)\n",
    "\n",
    "dt = DecisionTreeClassifier(criterion = 'gini', max_depth = 3, random_state = 42)\n",
    "\n",
    "bag = BaggingClassifier(max_samples = 60, n_estimators = 210, random_state = 42)\n",
    "\n",
    "clf = VotingClassifier(estimators = [('xgb', xgb), ('rf', rf), ('svc', svc), \n",
    "                                            ('et', et), ('dt', dt), ('bag', bag)], voting = 'hard')\n",
    "\n",
    "clf.fit(X_train, y_train)\n",
    "clf.score(X_train, y_train)"
   ]
  },
  {
   "cell_type": "code",
   "execution_count": 951,
   "metadata": {},
   "outputs": [],
   "source": [
    "y_test_pred = clf.predict(X_test)\n",
    "pd.concat([df_test['PassengerId'], pd.DataFrame(y_test_pred, columns = ['Survived'])], axis = 1).to_csv('result.csv', index = False)"
   ]
  }
 ],
 "metadata": {
  "kernelspec": {
   "display_name": "Python 3",
   "language": "python",
   "name": "python3"
  },
  "language_info": {
   "codemirror_mode": {
    "name": "ipython",
    "version": 3
   },
   "file_extension": ".py",
   "mimetype": "text/x-python",
   "name": "python",
   "nbconvert_exporter": "python",
   "pygments_lexer": "ipython3",
   "version": "3.7.2"
  }
 },
 "nbformat": 4,
 "nbformat_minor": 2
}
